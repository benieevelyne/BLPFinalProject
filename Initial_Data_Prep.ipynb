{
 "cells": [
  {
   "cell_type": "markdown",
   "metadata": {},
   "source": [
    "## Data Prep\n",
    "Data preparation and cleaning of loan data pulled the Lending Club: https://www.lendingclub.com/info/download-data.action"
   ]
  },
  {
   "cell_type": "code",
   "execution_count": 1,
   "metadata": {},
   "outputs": [],
   "source": [
    "# Import dependencies\n",
    "import matplotlib.pyplot as plt\n",
    "import pandas as pd\n",
    "import numpy as np\n",
    "from datetime import date\n",
    "from ipykernel import kernelapp as app"
   ]
  },
  {
   "cell_type": "markdown",
   "metadata": {},
   "source": [
    "## Read in Loan Data for FY 2017 and Q1 to Q3 2018"
   ]
  },
  {
   "cell_type": "code",
   "execution_count": 2,
   "metadata": {},
   "outputs": [],
   "source": [
    "# Read in 2017 csv files for review\n",
    "df=pd.read_csv(\"static/data/LoanStats_2017Q1.csv\", encoding=\"ISO-8859-1\", engine='python',skiprows=1, skipfooter=2)\n",
    "df2=pd.read_csv(\"static/data/LoanStats_2017Q2.csv\", encoding=\"ISO-8859-1\",engine = 'python',skiprows=1, skipfooter=2)\n",
    "df3=pd.read_csv(\"static/data/LoanStats_2017Q3.csv\", encoding=\"ISO-8859-1\",engine='python',skiprows=1, skipfooter=2)\n",
    "df4=pd.read_csv(\"static/data/LoanStats_2017Q4.csv\", encoding=\"ISO-8859-1\",engine='python',skiprows=1, skipfooter=2)"
   ]
  },
  {
   "cell_type": "code",
   "execution_count": 3,
   "metadata": {},
   "outputs": [],
   "source": [
    "# Read in 2018 csv files for review\n",
    "df5=pd.read_csv(\"static/data/LoanStats_2018Q1.csv\", encoding=\"ISO-8859-1\", engine='python', skiprows=1, skipfooter=2)\n",
    "df6=pd.read_csv(\"static/data/LoanStats_2018Q2.csv\", encoding=\"ISO-8859-1\", engine ='python',skiprows=1, skipfooter=2)\n",
    "df7=pd.read_csv(\"static/data/LoanStats_2018Q3.csv\", encoding=\"ISO-8859-1\", engine='python', skiprows=1, skipfooter=2)"
   ]
  },
  {
   "cell_type": "markdown",
   "metadata": {},
   "source": [
    "## Merge datasets"
   ]
  },
  {
   "cell_type": "code",
   "execution_count": 4,
   "metadata": {},
   "outputs": [],
   "source": [
    "# Merge all 2017 quarters\n",
    "merge = [df,df2,df3,df4]\n",
    "loan_df = pd.concat(merge, sort=False)\n",
    "# loan_df.head(2)"
   ]
  },
  {
   "cell_type": "code",
   "execution_count": 5,
   "metadata": {},
   "outputs": [
    {
     "data": {
      "text/plain": [
       "(443579, 145)"
      ]
     },
     "execution_count": 5,
     "metadata": {},
     "output_type": "execute_result"
    }
   ],
   "source": [
    "# find number of rows and columns\n",
    "loan_df.shape"
   ]
  },
  {
   "cell_type": "code",
   "execution_count": 6,
   "metadata": {},
   "outputs": [],
   "source": [
    "# Merge all 2018 quarters\n",
    "merge2 = [df5,df6,df7]\n",
    "loan2_df = pd.concat(merge2, sort=False)\n",
    "# loan2_df.head(2)"
   ]
  },
  {
   "cell_type": "code",
   "execution_count": 7,
   "metadata": {},
   "outputs": [
    {
     "data": {
      "text/plain": [
       "(366830, 145)"
      ]
     },
     "execution_count": 7,
     "metadata": {},
     "output_type": "execute_result"
    }
   ],
   "source": [
    "# find number of rows and columns\n",
    "loan2_df.shape"
   ]
  },
  {
   "cell_type": "markdown",
   "metadata": {},
   "source": [
    "## Retain Secured Loan Data Only\n",
    "Our focus will be on secured loan types. All others will be removed prior to our analysis."
   ]
  },
  {
   "cell_type": "code",
   "execution_count": 8,
   "metadata": {},
   "outputs": [],
   "source": [
    "#keep just secured loan data\n",
    "type_list = ('car','house','home_improvement')\n",
    "secured_df = loan_df.loc[loan_df['purpose'].isin(type_list)]\n",
    "# secured_df.head(2)"
   ]
  },
  {
   "cell_type": "code",
   "execution_count": 9,
   "metadata": {},
   "outputs": [
    {
     "data": {
      "text/plain": [
       "(43047, 145)"
      ]
     },
     "execution_count": 9,
     "metadata": {},
     "output_type": "execute_result"
    }
   ],
   "source": [
    "# find number of rows and columns after filtered on secured loans only\n",
    "secured_df.shape"
   ]
  },
  {
   "cell_type": "code",
   "execution_count": 10,
   "metadata": {},
   "outputs": [],
   "source": [
    "# replace values in loan status for 2017 data\n",
    "status_replace = {\n",
    "     \"loan_status\" : {\n",
    "        \"Current\": 0,\n",
    "        \"Charged Off\": 1,\n",
    "        \"Fully Paid\": 2,\n",
    "        \"In Grace Period\": 3,\n",
    "        \"Late (16-30 days)\" : 4,\n",
    "        \"Late (31-120 days)\": 5\n",
    "        \n",
    "    }\n",
    "}\n",
    "secured_df = secured_df.replace(status_replace)"
   ]
  },
  {
   "cell_type": "code",
   "execution_count": 11,
   "metadata": {},
   "outputs": [],
   "source": [
    "# replace values in loan status for 2017 data\n",
    "status_replace = {\n",
    "    \"home_ownership\" : {\n",
    "        \"MORTGAGE\": 0,\n",
    "        \"RENT\": 1,\n",
    "        \"OWN\": 2,\n",
    "        \"OTHER\": 3,\n",
    "        \"NONE\": 4,\n",
    "        \"ANY\" : 5\n",
    "    }\n",
    "}\n",
    "secured_df = secured_df.replace(status_replace)"
   ]
  },
  {
   "cell_type": "code",
   "execution_count": 12,
   "metadata": {},
   "outputs": [],
   "source": [
    "type_list2 = ('car','house','home_improvement')\n",
    "secured_df2 = loan2_df.loc[loan2_df['purpose'].isin(type_list)]\n",
    "# secured_df2.head(2)"
   ]
  },
  {
   "cell_type": "code",
   "execution_count": 13,
   "metadata": {},
   "outputs": [],
   "source": [
    "# replace values in loan status for 2018 data\n",
    "status_replace2 = {\n",
    "    \"loan_status\" : {\n",
    "        \"Current\": 0,\n",
    "        \"Charged Off\": 1,\n",
    "        \"Fully Paid\": 2,\n",
    "        \"In Grace Period\": 3,\n",
    "        \"Late (16-30 days)\" : 4,\n",
    "        \"Late (31-120 days)\": 5\n",
    "        \n",
    "    }\n",
    "}\n",
    "secured_df2 = secured_df2.replace(status_replace2)"
   ]
  },
  {
   "cell_type": "code",
   "execution_count": 14,
   "metadata": {},
   "outputs": [],
   "source": [
    "# replace values in loan status for 2017 data\n",
    "status_replace2 = {\n",
    "    \"home_ownership\" : {\n",
    "        \"MORTGAGE\": 0,\n",
    "        \"RENT\": 1,\n",
    "        \"OWN\": 2,\n",
    "        \"OTHER\": 3,\n",
    "        \"NONE\": 4,\n",
    "        \"ANY\" : 5\n",
    "    }\n",
    "}\n",
    "secured_df2 = secured_df2.replace(status_replace2)"
   ]
  },
  {
   "cell_type": "code",
   "execution_count": 15,
   "metadata": {},
   "outputs": [
    {
     "data": {
      "text/plain": [
       "(33785, 145)"
      ]
     },
     "execution_count": 15,
     "metadata": {},
     "output_type": "execute_result"
    }
   ],
   "source": [
    "# find number of rows and columns after filtered on secured loans only\n",
    "secured_df2.shape"
   ]
  },
  {
   "cell_type": "markdown",
   "metadata": {},
   "source": [
    "## Remove NAN and reclassify values into categorical measures"
   ]
  },
  {
   "cell_type": "code",
   "execution_count": 16,
   "metadata": {},
   "outputs": [
    {
     "data": {
      "text/plain": [
       "True"
      ]
     },
     "execution_count": 16,
     "metadata": {},
     "output_type": "execute_result"
    }
   ],
   "source": [
    "# Look for columns that have null values and exclude\n",
    "secured_df.isna().values.any()"
   ]
  },
  {
   "cell_type": "code",
   "execution_count": 17,
   "metadata": {},
   "outputs": [
    {
     "data": {
      "text/plain": [
       "Index(['id', 'member_id', 'emp_title', 'emp_length', 'url', 'desc', 'dti',\n",
       "       'mths_since_last_delinq', 'mths_since_last_record', 'revol_util',\n",
       "       'last_pymnt_d', 'next_pymnt_d', 'last_credit_pull_d',\n",
       "       'mths_since_last_major_derog', 'annual_inc_joint', 'dti_joint',\n",
       "       'verification_status_joint', 'mths_since_rcnt_il', 'il_util',\n",
       "       'all_util', 'avg_cur_bal', 'bc_open_to_buy', 'bc_util',\n",
       "       'mo_sin_old_il_acct', 'mths_since_recent_bc',\n",
       "       'mths_since_recent_bc_dlq', 'mths_since_recent_inq',\n",
       "       'mths_since_recent_revol_delinq', 'num_tl_120dpd_2m',\n",
       "       'percent_bc_gt_75', 'revol_bal_joint', 'sec_app_earliest_cr_line',\n",
       "       'sec_app_inq_last_6mths', 'sec_app_mort_acc', 'sec_app_open_acc',\n",
       "       'sec_app_revol_util', 'sec_app_open_act_il', 'sec_app_num_rev_accts',\n",
       "       'sec_app_chargeoff_within_12_mths',\n",
       "       'sec_app_collections_12_mths_ex_med',\n",
       "       'sec_app_mths_since_last_major_derog', 'hardship_type',\n",
       "       'hardship_reason', 'hardship_status', 'deferral_term',\n",
       "       'hardship_amount', 'hardship_start_date', 'hardship_end_date',\n",
       "       'payment_plan_start_date', 'hardship_length', 'hardship_dpd',\n",
       "       'hardship_loan_status', 'orig_projected_additional_accrued_interest',\n",
       "       'hardship_payoff_balance_amount', 'hardship_last_payment_amount',\n",
       "       'debt_settlement_flag_date', 'settlement_status', 'settlement_date',\n",
       "       'settlement_amount', 'settlement_percentage', 'settlement_term'],\n",
       "      dtype='object')"
      ]
     },
     "execution_count": 17,
     "metadata": {},
     "output_type": "execute_result"
    }
   ],
   "source": [
    "secured_df.columns[secured_df.isnull().any()]"
   ]
  },
  {
   "cell_type": "code",
   "execution_count": 18,
   "metadata": {},
   "outputs": [],
   "source": [
    "missing = secured_df.isna()\n",
    "# missing.head()"
   ]
  },
  {
   "cell_type": "code",
   "execution_count": 19,
   "metadata": {},
   "outputs": [],
   "source": [
    "# find the number of missing values\n",
    "num_missing = missing.sum()\n",
    "# num_missing"
   ]
  },
  {
   "cell_type": "code",
   "execution_count": 20,
   "metadata": {},
   "outputs": [],
   "source": [
    "# find the list of columns that have 50% or more null values\n",
    "lenb = len(secured_df)\n",
    "data = num_missing / lenb * 100\n",
    "# print(data)"
   ]
  },
  {
   "cell_type": "code",
   "execution_count": 21,
   "metadata": {},
   "outputs": [
    {
     "name": "stdout",
     "output_type": "stream",
     "text": [
      "['annual_inc_joint', 'debt_settlement_flag_date', 'deferral_term', 'desc', 'dti_joint', 'hardship_amount', 'hardship_dpd', 'hardship_end_date', 'hardship_last_payment_amount', 'hardship_length', 'hardship_loan_status', 'hardship_payoff_balance_amount', 'hardship_reason', 'hardship_start_date', 'hardship_status', 'hardship_type', 'id', 'member_id', 'mths_since_last_major_derog', 'mths_since_last_record', 'mths_since_recent_bc_dlq', 'mths_since_recent_revol_delinq', 'orig_projected_additional_accrued_interest', 'payment_plan_start_date', 'revol_bal_joint', 'sec_app_chargeoff_within_12_mths', 'sec_app_collections_12_mths_ex_med', 'sec_app_earliest_cr_line', 'sec_app_inq_last_6mths', 'sec_app_mort_acc', 'sec_app_mths_since_last_major_derog', 'sec_app_num_rev_accts', 'sec_app_open_acc', 'sec_app_open_act_il', 'sec_app_revol_util', 'settlement_amount', 'settlement_date', 'settlement_percentage', 'settlement_status', 'settlement_term', 'url', 'verification_status_joint']\n"
     ]
    }
   ],
   "source": [
    "drop_list = sorted(data[data > 50].index)\n",
    "print(drop_list)"
   ]
  },
  {
   "cell_type": "code",
   "execution_count": 22,
   "metadata": {},
   "outputs": [
    {
     "data": {
      "text/plain": [
       "42"
      ]
     },
     "execution_count": 22,
     "metadata": {},
     "output_type": "execute_result"
    }
   ],
   "source": [
    "# find the number of columns to remove from downloaded loan data files\n",
    "len(drop_list)"
   ]
  },
  {
   "cell_type": "markdown",
   "metadata": {},
   "source": [
    "## All columns with 50% or more null values are removed in this step. Additionally, the funded amount column which is a duplicate of the loan amount column was also removed."
   ]
  },
  {
   "cell_type": "code",
   "execution_count": 23,
   "metadata": {},
   "outputs": [],
   "source": [
    "# drop columns with more than 50% null values (2018)\n",
    "secured_df = secured_df.drop(columns=['annual_inc_joint','funded_amnt', 'debt_settlement_flag_date', 'deferral_term', 'desc', 'dti_joint', \n",
    "                                      'hardship_amount', 'hardship_dpd','hardship_end_date','hardship_last_payment_amount',\n",
    "                                      'hardship_length', 'hardship_loan_status', 'hardship_payoff_balance_amount', 'hardship_reason',\n",
    "                                      'hardship_start_date', 'hardship_status', 'hardship_type', 'id', 'member_id', \n",
    "                                      'mths_since_last_major_derog','mths_since_last_record', 'mths_since_recent_bc_dlq',\n",
    "                                      'mths_since_recent_revol_delinq', 'orig_projected_additional_accrued_interest',\n",
    "                                      'payment_plan_start_date', 'revol_bal_joint', 'sec_app_chargeoff_within_12_mths', \n",
    "                                      'sec_app_collections_12_mths_ex_med','sec_app_earliest_cr_line','sec_app_inq_last_6mths',\n",
    "                                      'sec_app_mort_acc', 'sec_app_mths_since_last_major_derog', 'sec_app_num_rev_accts',\n",
    "                                      'sec_app_open_acc', 'sec_app_open_act_il', 'sec_app_revol_util', 'settlement_amount', \n",
    "                                      'settlement_date', 'settlement_percentage','settlement_status', 'settlement_term', \n",
    "                                      'url', 'verification_status_joint'], axis=1)\n"
   ]
  },
  {
   "cell_type": "code",
   "execution_count": 24,
   "metadata": {},
   "outputs": [
    {
     "data": {
      "text/plain": [
       "(43047, 102)"
      ]
     },
     "execution_count": 24,
     "metadata": {},
     "output_type": "execute_result"
    }
   ],
   "source": [
    "# check number of columns after elements are dropped\n",
    "secured_df.shape"
   ]
  },
  {
   "cell_type": "code",
   "execution_count": 25,
   "metadata": {},
   "outputs": [],
   "source": [
    "# drop columns with more than 50% null values (2017)\n",
    "secured_df2 = secured_df2.drop(columns=['annual_inc_joint', 'funded_amnt', 'debt_settlement_flag_date', 'deferral_term', 'desc', 'dti_joint', \n",
    "                                      'hardship_amount', 'hardship_dpd','hardship_end_date','hardship_last_payment_amount',\n",
    "                                      'hardship_length', 'hardship_loan_status', 'hardship_payoff_balance_amount', 'hardship_reason',\n",
    "                                      'hardship_start_date', 'hardship_status', 'hardship_type', 'id', 'member_id', \n",
    "                                      'mths_since_last_major_derog','mths_since_last_record', 'mths_since_recent_bc_dlq',\n",
    "                                      'mths_since_recent_revol_delinq', 'orig_projected_additional_accrued_interest',\n",
    "                                      'payment_plan_start_date', 'revol_bal_joint', 'sec_app_chargeoff_within_12_mths', \n",
    "                                      'sec_app_collections_12_mths_ex_med','sec_app_earliest_cr_line','sec_app_inq_last_6mths',\n",
    "                                      'sec_app_mort_acc', 'sec_app_mths_since_last_major_derog', 'sec_app_num_rev_accts',\n",
    "                                      'sec_app_open_acc', 'sec_app_open_act_il', 'sec_app_revol_util', 'settlement_amount', \n",
    "                                      'settlement_date', 'settlement_percentage','settlement_status', 'settlement_term', \n",
    "                                      'url', 'verification_status_joint'], axis=1)\n"
   ]
  },
  {
   "cell_type": "code",
   "execution_count": 26,
   "metadata": {},
   "outputs": [
    {
     "data": {
      "text/plain": [
       "(33785, 102)"
      ]
     },
     "execution_count": 26,
     "metadata": {},
     "output_type": "execute_result"
    }
   ],
   "source": [
    "# check number of columns after elements are dropped\n",
    "secured_df2.shape"
   ]
  },
  {
   "cell_type": "code",
   "execution_count": 27,
   "metadata": {},
   "outputs": [],
   "source": [
    "# secured_df2.drop_duplicates(subset=None, keep='first')\n",
    "# secured_df2.head()"
   ]
  },
  {
   "cell_type": "code",
   "execution_count": 28,
   "metadata": {},
   "outputs": [
    {
     "data": {
      "text/plain": [
       "(43047, 102)"
      ]
     },
     "execution_count": 28,
     "metadata": {},
     "output_type": "execute_result"
    }
   ],
   "source": [
    "# remove all NAN values (2017)\n",
    "secured_df = secured_df.fillna(0)\n",
    "secured_df.shape"
   ]
  },
  {
   "cell_type": "code",
   "execution_count": 29,
   "metadata": {},
   "outputs": [
    {
     "data": {
      "text/plain": [
       "(33785, 102)"
      ]
     },
     "execution_count": 29,
     "metadata": {},
     "output_type": "execute_result"
    }
   ],
   "source": [
    "# remove all NAN values (2018)\n",
    "secured_df2 = secured_df2.fillna(0)\n",
    "secured_df2.shape"
   ]
  },
  {
   "cell_type": "markdown",
   "metadata": {},
   "source": [
    "## Write out clean csv files"
   ]
  },
  {
   "cell_type": "code",
   "execution_count": 30,
   "metadata": {},
   "outputs": [],
   "source": [
    "## Clean csv file to be saved in GitHub repository\n",
    "secured_df.to_csv(\"DataSets/clean_loan_data_2017_rev.csv\", index=False,header=True)"
   ]
  },
  {
   "cell_type": "code",
   "execution_count": 31,
   "metadata": {},
   "outputs": [],
   "source": [
    "## Clean csv file to be saved in GitHub repository\n",
    "secured_df2.to_csv(\"DataSets/clean_loan_data_2018_rev.csv\", index=False,header=True)"
   ]
  },
  {
   "cell_type": "code",
   "execution_count": 32,
   "metadata": {},
   "outputs": [],
   "source": [
    "# End of data cleaning"
   ]
  }
 ],
 "metadata": {
  "kernelspec": {
   "display_name": "Python [default]",
   "language": "python",
   "name": "python3"
  },
  "language_info": {
   "codemirror_mode": {
    "name": "ipython",
    "version": 3
   },
   "file_extension": ".py",
   "mimetype": "text/x-python",
   "name": "python",
   "nbconvert_exporter": "python",
   "pygments_lexer": "ipython3",
   "version": "3.6.5"
  }
 },
 "nbformat": 4,
 "nbformat_minor": 2
}

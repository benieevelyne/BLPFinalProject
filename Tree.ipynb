{
 "cells": [
  {
   "cell_type": "code",
   "execution_count": 1,
   "metadata": {},
   "outputs": [],
   "source": [
    "from sklearn import tree\n",
    "import pandas as pd\n",
    "import os"
   ]
  },
  {
   "cell_type": "code",
   "execution_count": 2,
   "metadata": {},
   "outputs": [],
   "source": [
    "loan = pd.read_csv(\"DataSets/clean_loan_data_2017.csv\", low_memory=False)"
   ]
  },
  {
   "cell_type": "code",
   "execution_count": 3,
   "metadata": {},
   "outputs": [],
   "source": [
    "# for loans in loan:\n",
    "#     if loans[\"loan_status\"] == \"Current\":\n",
    "#         result = 0\n",
    "#     elif loans[\"loan_status\"] == \"Charged Off\":\n",
    "#         result = 1\n",
    "#     elif loans[\"loan_status\"] == \"Fully Paid\":\n",
    "#         result = 2\n",
    "#     elif loans[\"loan_status\"] == \"In Grace Period\":\n",
    "#         result = 3\n",
    "#     elif loans[\"loan_status\"] == \"Late (16-30 days)\":\n",
    "#         result = 4\n",
    "#     elif loans[\"loan_status\"] == \"Late (31-120 days)\":\n",
    "#         result = 5\n",
    "        \n",
    "    "
   ]
  },
  {
   "cell_type": "code",
   "execution_count": 4,
   "metadata": {},
   "outputs": [],
   "source": [
    "target = loan[\"loan_status\"]\n",
    "target_names = [\"current\", \"charged off\",\"fully paid\",\"in grace period\",\"late (16-30 days)\", \"late (31-120 days)\"]\n",
    "\n"
   ]
  },
  {
   "cell_type": "code",
   "execution_count": 22,
   "metadata": {},
   "outputs": [
    {
     "data": {
      "text/plain": [
       "loan_amnt          False\n",
       "annual_inc         False\n",
       "out_prncp          False\n",
       "last_pymnt_amnt    False\n",
       "delinq_amnt        False\n",
       "dtype: bool"
      ]
     },
     "execution_count": 22,
     "metadata": {},
     "output_type": "execute_result"
    }
   ],
   "source": [
    "data = loan.drop([\"funded_amnt_inv\", \"dti\", \"inq_last_6mths\", \"open_acc\", \"pub_rec\", \"revol_bal\", \"out_prncp_inv\", \"total_rec_prncp\", \"total_rec_late_fee\", \"recoveries\", \"collection_recovery_fee\", \"collections_12_mths_ex_med\", \"policy_code\", \"tot_coll_amt\", \"open_acc_6m\", \"open_act_il\", \"open_il_12m\", \"open_il_24m\", \"mths_since_rcnt_il\", \"total_bal_il\", \"il_util\", \"open_rv_12m\", \"open_rv_24m\", \"total_rev_hi_lim\", \"total_cu_tl\", \"inq_last_12m\", \"chargeoff_within_12_mths\", \"mo_sin_old_il_acct\", \"mo_sin_old_rev_tl_op\", \"mo_sin_rcnt_rev_tl_op\", \"mo_sin_rcnt_tl\", \"mort_acc\", \"mths_since_recent_bc\", \"mths_since_recent_inq\", \"num_actv_bc_tl\", \"num_actv_rev_tl\", \"num_bc_sats\", \"num_bc_tl\", \"num_il_tl\", \"num_op_rev_tl\", \"num_rev_accts\", \"num_rev_tl_bal_gt_0\", \"num_sats\", \"percent_bc_gt_75\", \"pub_rec_bankruptcies\", \"tax_liens\", \"total_bc_limit\", \"total_il_high_credit_limit\", \"orig_projected_additional_accrued_interest\",\"last_pymnt_d\",\"next_pymnt_d\",\n",
    "\"grade\", \"sub_grade\", \"emp_title\", \"emp_length\", \"home_ownership\", \"verification_status\", \"issue_d\", \"loan_status\", \"pymnt_plan\", \"url\", \"desc\", \"purpose\", \"title\", \"zip_code\", \"addr_state\", \"earliest_cr_line\", \"mths_since_last_delinq\", \"mths_since_last_record\", \"revol_util\", \"initial_list_status\", \"last_pymnt_d\", \"next_pymnt_d\", \"last_credit_pull_d\", \"mths_since_last_major_derog\", \"application_type\", \"annual_inc_joint\", \"dti_joint\", \"verification_status_joint\", \"bc_open_to_buy\", \"bc_util\", \"mths_since_recent_bc_dlq\", \"mths_since_recent_revol_delinq\", \"num_tl_120dpd_2m\", \"revol_bal_joint\", \"sec_app_earliest_cr_line\", \"sec_app_inq_last_6mths\", \"sec_app_mort_acc\", \"sec_app_open_acc\", \"sec_app_revol_util\", \"sec_app_open_act_il\", \"sec_app_num_rev_accts\", \"sec_app_chargeoff_within_12_mths\", \"sec_app_collections_12_mths_ex_med\", \"sec_app_mths_since_last_major_derog\", \"hardship_flag\", \"hardship_type\", \"hardship_reason\", \"hardship_status\", \"deferral_term\", \n",
    "\"hardship_amount\", \"hardship_start_date\", \"hardship_end_date\", \"payment_plan_start_date\", \"hardship_length\", \"hardship_dpd\", \"hardship_loan_status\", \"hardship_payoff_balance_amount\", \"hardship_last_payment_amount\", \"disbursement_method\", \"debt_settlement_flag\", \"debt_settlement_flag_date\", \"settlement_status\", \"settlement_date\", \"settlement_amount\", \"settlement_percentage\", \"settlement_term\",\"int_rate\",\"term\",\"id\",\"member_id\",\"acc_now_delinq\",\n",
    "\"num_tl_30dpd\",\"num_tl_90g_dpd_24m\",\"delinq_2yrs\",\"num_accts_ever_120_pd\",\"inq_fi\",\"num_tl_op_past_12m\",\"pct_tl_nvr_dlq\",\"acc_open_past_24mths\",\"total_acc\",\"tot_cur_bal\",\"max_bal_bc\",\"avg_cur_bal\",\"total_bal_ex_mort\",\"tot_hi_cred_lim\",\"funded_amnt\",\"installment\",\"total_rec_int\",\"total_pymnt_inv\",\"total_pymnt\",\"all_util\"],axis=1)\n",
    "\n",
    "feature_names = data.columns\n",
    "\n",
    "\n",
    "data.isnull().any()\n",
    "\n"
   ]
  },
  {
   "cell_type": "code",
   "execution_count": 23,
   "metadata": {},
   "outputs": [],
   "source": [
    "from sklearn.model_selection import train_test_split\n",
    "X_train, X_test, y_train, y_test = train_test_split(data, target, random_state=42)"
   ]
  },
  {
   "cell_type": "code",
   "execution_count": 24,
   "metadata": {},
   "outputs": [
    {
     "data": {
      "text/plain": [
       "0.9342129715666233"
      ]
     },
     "execution_count": 24,
     "metadata": {},
     "output_type": "execute_result"
    }
   ],
   "source": [
    "clf = tree.DecisionTreeClassifier()\n",
    "clf = clf.fit(X_train, y_train)\n",
    "clf.score(X_test, y_test)"
   ]
  },
  {
   "cell_type": "code",
   "execution_count": 25,
   "metadata": {},
   "outputs": [
    {
     "data": {
      "text/plain": [
       "0.9604162795019513"
      ]
     },
     "execution_count": 25,
     "metadata": {},
     "output_type": "execute_result"
    }
   ],
   "source": [
    "from sklearn.ensemble import RandomForestClassifier\n",
    "rf = RandomForestClassifier(n_estimators=200)\n",
    "rf = rf.fit(X_train, y_train)\n",
    "rf.score(X_test, y_test)"
   ]
  },
  {
   "cell_type": "code",
   "execution_count": 26,
   "metadata": {},
   "outputs": [
    {
     "data": {
      "text/plain": [
       "[(0.5385961509722751, 'out_prncp'),\n",
       " (0.38715773216442295, 'last_pymnt_amnt'),\n",
       " (0.03804340435958417, 'loan_amnt'),\n",
       " (0.03568444968728927, 'annual_inc'),\n",
       " (0.000518262816428563, 'delinq_amnt')]"
      ]
     },
     "execution_count": 26,
     "metadata": {},
     "output_type": "execute_result"
    }
   ],
   "source": [
    "sorted(zip(rf.feature_importances_, feature_names), reverse=True)"
   ]
  },
  {
   "cell_type": "code",
   "execution_count": 10,
   "metadata": {},
   "outputs": [],
   "source": [
    "predictions = rf.predict(X_test)"
   ]
  },
  {
   "cell_type": "code",
   "execution_count": 11,
   "metadata": {},
   "outputs": [
    {
     "data": {
      "text/plain": [
       "array([0, 2, 0, ..., 1, 2, 2])"
      ]
     },
     "execution_count": 11,
     "metadata": {},
     "output_type": "execute_result"
    }
   ],
   "source": [
    "predictions"
   ]
  },
  {
   "cell_type": "code",
   "execution_count": 12,
   "metadata": {},
   "outputs": [],
   "source": [
    "df = pd.DataFrame({\"Prediction\": predictions, \"Actual\": y_test}).reset_index(drop=True)"
   ]
  },
  {
   "cell_type": "code",
   "execution_count": 13,
   "metadata": {},
   "outputs": [],
   "source": [
    "# df.to_csv(\"output.csv\", index=False)"
   ]
  },
  {
   "cell_type": "code",
   "execution_count": 14,
   "metadata": {},
   "outputs": [
    {
     "data": {
      "text/html": [
       "<div>\n",
       "<style scoped>\n",
       "    .dataframe tbody tr th:only-of-type {\n",
       "        vertical-align: middle;\n",
       "    }\n",
       "\n",
       "    .dataframe tbody tr th {\n",
       "        vertical-align: top;\n",
       "    }\n",
       "\n",
       "    .dataframe thead th {\n",
       "        text-align: right;\n",
       "    }\n",
       "</style>\n",
       "<table border=\"1\" class=\"dataframe\">\n",
       "  <thead>\n",
       "    <tr style=\"text-align: right;\">\n",
       "      <th></th>\n",
       "      <th>Prediction</th>\n",
       "      <th>Actual</th>\n",
       "    </tr>\n",
       "  </thead>\n",
       "  <tbody>\n",
       "    <tr>\n",
       "      <th>0</th>\n",
       "      <td>0</td>\n",
       "      <td>0</td>\n",
       "    </tr>\n",
       "    <tr>\n",
       "      <th>1</th>\n",
       "      <td>2</td>\n",
       "      <td>2</td>\n",
       "    </tr>\n",
       "    <tr>\n",
       "      <th>2</th>\n",
       "      <td>0</td>\n",
       "      <td>0</td>\n",
       "    </tr>\n",
       "    <tr>\n",
       "      <th>3</th>\n",
       "      <td>2</td>\n",
       "      <td>2</td>\n",
       "    </tr>\n",
       "    <tr>\n",
       "      <th>4</th>\n",
       "      <td>1</td>\n",
       "      <td>1</td>\n",
       "    </tr>\n",
       "  </tbody>\n",
       "</table>\n",
       "</div>"
      ],
      "text/plain": [
       "   Prediction  Actual\n",
       "0           0       0\n",
       "1           2       2\n",
       "2           0       0\n",
       "3           2       2\n",
       "4           1       1"
      ]
     },
     "execution_count": 14,
     "metadata": {},
     "output_type": "execute_result"
    }
   ],
   "source": [
    "df.head()"
   ]
  },
  {
   "cell_type": "code",
   "execution_count": 15,
   "metadata": {},
   "outputs": [],
   "source": [
    "loan2018 = pd.read_csv(\"DataSets/clean_loan_data_2018.csv\", low_memory=False)"
   ]
  },
  {
   "cell_type": "code",
   "execution_count": 16,
   "metadata": {},
   "outputs": [],
   "source": [
    "X_test2018 = loan.drop([\"funded_amnt_inv\", \"dti\", \"inq_last_6mths\", \"open_acc\", \"pub_rec\", \"revol_bal\", \"out_prncp_inv\", \"total_rec_prncp\", \"total_rec_late_fee\", \"recoveries\", \"collection_recovery_fee\", \"collections_12_mths_ex_med\", \"policy_code\", \"tot_coll_amt\", \"open_acc_6m\", \"open_act_il\", \"open_il_12m\", \"open_il_24m\", \"mths_since_rcnt_il\", \"total_bal_il\", \"il_util\", \"open_rv_12m\", \"open_rv_24m\", \"all_util\", \"total_rev_hi_lim\", \"total_cu_tl\", \"inq_last_12m\", \"chargeoff_within_12_mths\", \"mo_sin_old_il_acct\", \"mo_sin_old_rev_tl_op\", \"mo_sin_rcnt_rev_tl_op\", \"mo_sin_rcnt_tl\", \"mort_acc\", \"mths_since_recent_bc\", \"mths_since_recent_inq\", \"num_actv_bc_tl\", \"num_actv_rev_tl\", \"num_bc_sats\", \"num_bc_tl\", \"num_il_tl\", \"num_op_rev_tl\", \"num_rev_accts\", \"num_rev_tl_bal_gt_0\", \"num_sats\", \"percent_bc_gt_75\", \"pub_rec_bankruptcies\", \"tax_liens\", \"total_bc_limit\", \"total_il_high_credit_limit\", \"orig_projected_additional_accrued_interest\",\"last_pymnt_d\",\"next_pymnt_d\",\n",
    "\"grade\", \"sub_grade\", \"emp_title\", \"emp_length\", \"home_ownership\", \"verification_status\", \"issue_d\", \"loan_status\", \"pymnt_plan\", \"url\", \"desc\", \"purpose\", \"title\", \"zip_code\", \"addr_state\", \"earliest_cr_line\", \"mths_since_last_delinq\", \"mths_since_last_record\", \"revol_util\", \"initial_list_status\", \"last_pymnt_d\", \"next_pymnt_d\", \"last_credit_pull_d\", \"mths_since_last_major_derog\", \"application_type\", \"annual_inc_joint\", \"dti_joint\", \"verification_status_joint\", \"bc_open_to_buy\", \"bc_util\", \"mths_since_recent_bc_dlq\", \"mths_since_recent_revol_delinq\", \"num_tl_120dpd_2m\", \"revol_bal_joint\", \"sec_app_earliest_cr_line\", \"sec_app_inq_last_6mths\", \"sec_app_mort_acc\", \"sec_app_open_acc\", \"sec_app_revol_util\", \"sec_app_open_act_il\", \"sec_app_num_rev_accts\", \"sec_app_chargeoff_within_12_mths\", \"sec_app_collections_12_mths_ex_med\", \"sec_app_mths_since_last_major_derog\", \"hardship_flag\", \"hardship_type\", \"hardship_reason\", \"hardship_status\", \"deferral_term\", \n",
    "\"hardship_amount\", \"hardship_start_date\", \"hardship_end_date\", \"payment_plan_start_date\", \"hardship_length\", \"hardship_dpd\", \"hardship_loan_status\", \"hardship_payoff_balance_amount\", \"hardship_last_payment_amount\", \"disbursement_method\", \"debt_settlement_flag\", \"debt_settlement_flag_date\", \"settlement_status\", \"settlement_date\", \"settlement_amount\", \"settlement_percentage\", \"settlement_term\",\"int_rate\",\"term\",\"id\",\"member_id\",\"acc_now_delinq\",\n",
    "\"delinq_amnt\",\"num_tl_30dpd\",\"num_tl_90g_dpd_24m\",\"delinq_2yrs\",\"num_accts_ever_120_pd\",\"inq_fi\",\"num_tl_op_past_12m\",\"pct_tl_nvr_dlq\",\"acc_open_past_24mths\",\"total_acc\",\"tot_cur_bal\",\"max_bal_bc\",\"avg_cur_bal\",\"total_bal_ex_mort\",\"tot_hi_cred_lim\",\"funded_amnt\",\"installment\",\"total_rec_int\",\"total_pymnt_inv\",\"total_pymnt\"],axis=1)\n",
    "y_test2018 = loan[\"loan_status\"]"
   ]
  },
  {
   "cell_type": "code",
   "execution_count": 17,
   "metadata": {},
   "outputs": [],
   "source": [
    "predictions2018 = rf.predict(X_test2018)"
   ]
  },
  {
   "cell_type": "code",
   "execution_count": 20,
   "metadata": {
    "scrolled": true
   },
   "outputs": [
    {
     "data": {
      "text/html": [
       "<div>\n",
       "<style scoped>\n",
       "    .dataframe tbody tr th:only-of-type {\n",
       "        vertical-align: middle;\n",
       "    }\n",
       "\n",
       "    .dataframe tbody tr th {\n",
       "        vertical-align: top;\n",
       "    }\n",
       "\n",
       "    .dataframe thead th {\n",
       "        text-align: right;\n",
       "    }\n",
       "</style>\n",
       "<table border=\"1\" class=\"dataframe\">\n",
       "  <thead>\n",
       "    <tr style=\"text-align: right;\">\n",
       "      <th></th>\n",
       "      <th>Prediction</th>\n",
       "      <th>Actual</th>\n",
       "    </tr>\n",
       "  </thead>\n",
       "  <tbody>\n",
       "    <tr>\n",
       "      <th>0</th>\n",
       "      <td>0</td>\n",
       "      <td>0</td>\n",
       "    </tr>\n",
       "    <tr>\n",
       "      <th>1</th>\n",
       "      <td>0</td>\n",
       "      <td>0</td>\n",
       "    </tr>\n",
       "    <tr>\n",
       "      <th>2</th>\n",
       "      <td>2</td>\n",
       "      <td>2</td>\n",
       "    </tr>\n",
       "    <tr>\n",
       "      <th>3</th>\n",
       "      <td>2</td>\n",
       "      <td>2</td>\n",
       "    </tr>\n",
       "    <tr>\n",
       "      <th>4</th>\n",
       "      <td>0</td>\n",
       "      <td>0</td>\n",
       "    </tr>\n",
       "    <tr>\n",
       "      <th>5</th>\n",
       "      <td>0</td>\n",
       "      <td>0</td>\n",
       "    </tr>\n",
       "    <tr>\n",
       "      <th>6</th>\n",
       "      <td>0</td>\n",
       "      <td>0</td>\n",
       "    </tr>\n",
       "    <tr>\n",
       "      <th>7</th>\n",
       "      <td>2</td>\n",
       "      <td>2</td>\n",
       "    </tr>\n",
       "    <tr>\n",
       "      <th>8</th>\n",
       "      <td>0</td>\n",
       "      <td>0</td>\n",
       "    </tr>\n",
       "    <tr>\n",
       "      <th>9</th>\n",
       "      <td>2</td>\n",
       "      <td>2</td>\n",
       "    </tr>\n",
       "    <tr>\n",
       "      <th>10</th>\n",
       "      <td>2</td>\n",
       "      <td>2</td>\n",
       "    </tr>\n",
       "    <tr>\n",
       "      <th>11</th>\n",
       "      <td>1</td>\n",
       "      <td>1</td>\n",
       "    </tr>\n",
       "    <tr>\n",
       "      <th>12</th>\n",
       "      <td>0</td>\n",
       "      <td>0</td>\n",
       "    </tr>\n",
       "    <tr>\n",
       "      <th>13</th>\n",
       "      <td>0</td>\n",
       "      <td>0</td>\n",
       "    </tr>\n",
       "    <tr>\n",
       "      <th>14</th>\n",
       "      <td>2</td>\n",
       "      <td>2</td>\n",
       "    </tr>\n",
       "    <tr>\n",
       "      <th>15</th>\n",
       "      <td>2</td>\n",
       "      <td>2</td>\n",
       "    </tr>\n",
       "    <tr>\n",
       "      <th>16</th>\n",
       "      <td>2</td>\n",
       "      <td>2</td>\n",
       "    </tr>\n",
       "    <tr>\n",
       "      <th>17</th>\n",
       "      <td>2</td>\n",
       "      <td>2</td>\n",
       "    </tr>\n",
       "    <tr>\n",
       "      <th>18</th>\n",
       "      <td>0</td>\n",
       "      <td>0</td>\n",
       "    </tr>\n",
       "    <tr>\n",
       "      <th>19</th>\n",
       "      <td>0</td>\n",
       "      <td>0</td>\n",
       "    </tr>\n",
       "    <tr>\n",
       "      <th>20</th>\n",
       "      <td>2</td>\n",
       "      <td>2</td>\n",
       "    </tr>\n",
       "    <tr>\n",
       "      <th>21</th>\n",
       "      <td>2</td>\n",
       "      <td>2</td>\n",
       "    </tr>\n",
       "    <tr>\n",
       "      <th>22</th>\n",
       "      <td>0</td>\n",
       "      <td>0</td>\n",
       "    </tr>\n",
       "    <tr>\n",
       "      <th>23</th>\n",
       "      <td>0</td>\n",
       "      <td>0</td>\n",
       "    </tr>\n",
       "    <tr>\n",
       "      <th>24</th>\n",
       "      <td>0</td>\n",
       "      <td>0</td>\n",
       "    </tr>\n",
       "    <tr>\n",
       "      <th>25</th>\n",
       "      <td>0</td>\n",
       "      <td>0</td>\n",
       "    </tr>\n",
       "    <tr>\n",
       "      <th>26</th>\n",
       "      <td>0</td>\n",
       "      <td>0</td>\n",
       "    </tr>\n",
       "    <tr>\n",
       "      <th>27</th>\n",
       "      <td>2</td>\n",
       "      <td>2</td>\n",
       "    </tr>\n",
       "    <tr>\n",
       "      <th>28</th>\n",
       "      <td>0</td>\n",
       "      <td>0</td>\n",
       "    </tr>\n",
       "    <tr>\n",
       "      <th>29</th>\n",
       "      <td>2</td>\n",
       "      <td>2</td>\n",
       "    </tr>\n",
       "    <tr>\n",
       "      <th>...</th>\n",
       "      <td>...</td>\n",
       "      <td>...</td>\n",
       "    </tr>\n",
       "    <tr>\n",
       "      <th>70</th>\n",
       "      <td>0</td>\n",
       "      <td>0</td>\n",
       "    </tr>\n",
       "    <tr>\n",
       "      <th>71</th>\n",
       "      <td>0</td>\n",
       "      <td>0</td>\n",
       "    </tr>\n",
       "    <tr>\n",
       "      <th>72</th>\n",
       "      <td>0</td>\n",
       "      <td>0</td>\n",
       "    </tr>\n",
       "    <tr>\n",
       "      <th>73</th>\n",
       "      <td>5</td>\n",
       "      <td>5</td>\n",
       "    </tr>\n",
       "    <tr>\n",
       "      <th>74</th>\n",
       "      <td>1</td>\n",
       "      <td>1</td>\n",
       "    </tr>\n",
       "    <tr>\n",
       "      <th>75</th>\n",
       "      <td>1</td>\n",
       "      <td>1</td>\n",
       "    </tr>\n",
       "    <tr>\n",
       "      <th>76</th>\n",
       "      <td>0</td>\n",
       "      <td>0</td>\n",
       "    </tr>\n",
       "    <tr>\n",
       "      <th>77</th>\n",
       "      <td>0</td>\n",
       "      <td>0</td>\n",
       "    </tr>\n",
       "    <tr>\n",
       "      <th>78</th>\n",
       "      <td>2</td>\n",
       "      <td>2</td>\n",
       "    </tr>\n",
       "    <tr>\n",
       "      <th>79</th>\n",
       "      <td>0</td>\n",
       "      <td>0</td>\n",
       "    </tr>\n",
       "    <tr>\n",
       "      <th>80</th>\n",
       "      <td>2</td>\n",
       "      <td>2</td>\n",
       "    </tr>\n",
       "    <tr>\n",
       "      <th>81</th>\n",
       "      <td>1</td>\n",
       "      <td>1</td>\n",
       "    </tr>\n",
       "    <tr>\n",
       "      <th>82</th>\n",
       "      <td>0</td>\n",
       "      <td>0</td>\n",
       "    </tr>\n",
       "    <tr>\n",
       "      <th>83</th>\n",
       "      <td>0</td>\n",
       "      <td>0</td>\n",
       "    </tr>\n",
       "    <tr>\n",
       "      <th>84</th>\n",
       "      <td>2</td>\n",
       "      <td>2</td>\n",
       "    </tr>\n",
       "    <tr>\n",
       "      <th>85</th>\n",
       "      <td>0</td>\n",
       "      <td>0</td>\n",
       "    </tr>\n",
       "    <tr>\n",
       "      <th>86</th>\n",
       "      <td>0</td>\n",
       "      <td>0</td>\n",
       "    </tr>\n",
       "    <tr>\n",
       "      <th>87</th>\n",
       "      <td>2</td>\n",
       "      <td>2</td>\n",
       "    </tr>\n",
       "    <tr>\n",
       "      <th>88</th>\n",
       "      <td>0</td>\n",
       "      <td>0</td>\n",
       "    </tr>\n",
       "    <tr>\n",
       "      <th>89</th>\n",
       "      <td>2</td>\n",
       "      <td>2</td>\n",
       "    </tr>\n",
       "    <tr>\n",
       "      <th>90</th>\n",
       "      <td>0</td>\n",
       "      <td>0</td>\n",
       "    </tr>\n",
       "    <tr>\n",
       "      <th>91</th>\n",
       "      <td>0</td>\n",
       "      <td>0</td>\n",
       "    </tr>\n",
       "    <tr>\n",
       "      <th>92</th>\n",
       "      <td>2</td>\n",
       "      <td>2</td>\n",
       "    </tr>\n",
       "    <tr>\n",
       "      <th>93</th>\n",
       "      <td>0</td>\n",
       "      <td>0</td>\n",
       "    </tr>\n",
       "    <tr>\n",
       "      <th>94</th>\n",
       "      <td>0</td>\n",
       "      <td>0</td>\n",
       "    </tr>\n",
       "    <tr>\n",
       "      <th>95</th>\n",
       "      <td>2</td>\n",
       "      <td>2</td>\n",
       "    </tr>\n",
       "    <tr>\n",
       "      <th>96</th>\n",
       "      <td>0</td>\n",
       "      <td>0</td>\n",
       "    </tr>\n",
       "    <tr>\n",
       "      <th>97</th>\n",
       "      <td>2</td>\n",
       "      <td>2</td>\n",
       "    </tr>\n",
       "    <tr>\n",
       "      <th>98</th>\n",
       "      <td>2</td>\n",
       "      <td>2</td>\n",
       "    </tr>\n",
       "    <tr>\n",
       "      <th>99</th>\n",
       "      <td>2</td>\n",
       "      <td>2</td>\n",
       "    </tr>\n",
       "  </tbody>\n",
       "</table>\n",
       "<p>100 rows × 2 columns</p>\n",
       "</div>"
      ],
      "text/plain": [
       "    Prediction  Actual\n",
       "0            0       0\n",
       "1            0       0\n",
       "2            2       2\n",
       "3            2       2\n",
       "4            0       0\n",
       "5            0       0\n",
       "6            0       0\n",
       "7            2       2\n",
       "8            0       0\n",
       "9            2       2\n",
       "10           2       2\n",
       "11           1       1\n",
       "12           0       0\n",
       "13           0       0\n",
       "14           2       2\n",
       "15           2       2\n",
       "16           2       2\n",
       "17           2       2\n",
       "18           0       0\n",
       "19           0       0\n",
       "20           2       2\n",
       "21           2       2\n",
       "22           0       0\n",
       "23           0       0\n",
       "24           0       0\n",
       "25           0       0\n",
       "26           0       0\n",
       "27           2       2\n",
       "28           0       0\n",
       "29           2       2\n",
       "..         ...     ...\n",
       "70           0       0\n",
       "71           0       0\n",
       "72           0       0\n",
       "73           5       5\n",
       "74           1       1\n",
       "75           1       1\n",
       "76           0       0\n",
       "77           0       0\n",
       "78           2       2\n",
       "79           0       0\n",
       "80           2       2\n",
       "81           1       1\n",
       "82           0       0\n",
       "83           0       0\n",
       "84           2       2\n",
       "85           0       0\n",
       "86           0       0\n",
       "87           2       2\n",
       "88           0       0\n",
       "89           2       2\n",
       "90           0       0\n",
       "91           0       0\n",
       "92           2       2\n",
       "93           0       0\n",
       "94           0       0\n",
       "95           2       2\n",
       "96           0       0\n",
       "97           2       2\n",
       "98           2       2\n",
       "99           2       2\n",
       "\n",
       "[100 rows x 2 columns]"
      ]
     },
     "execution_count": 20,
     "metadata": {},
     "output_type": "execute_result"
    }
   ],
   "source": [
    "df2018 = pd.DataFrame({\"Prediction\": predictions2018, \"Actual\": y_test2018}).reset_index(drop=True)\n",
    "df2018.head(100)"
   ]
  },
  {
   "cell_type": "code",
   "execution_count": 19,
   "metadata": {},
   "outputs": [
    {
     "data": {
      "text/plain": [
       "0.9900104541758624"
      ]
     },
     "execution_count": 19,
     "metadata": {},
     "output_type": "execute_result"
    }
   ],
   "source": [
    "rf.score(X_test2018, y_test2018)"
   ]
  },
  {
   "cell_type": "code",
   "execution_count": null,
   "metadata": {},
   "outputs": [],
   "source": []
  }
 ],
 "metadata": {
  "kernelspec": {
   "display_name": "Python [default]",
   "language": "python",
   "name": "python3"
  },
  "language_info": {
   "codemirror_mode": {
    "name": "ipython",
    "version": 3
   },
   "file_extension": ".py",
   "mimetype": "text/x-python",
   "name": "python",
   "nbconvert_exporter": "python",
   "pygments_lexer": "ipython3",
   "version": "3.6.5"
  }
 },
 "nbformat": 4,
 "nbformat_minor": 2
}

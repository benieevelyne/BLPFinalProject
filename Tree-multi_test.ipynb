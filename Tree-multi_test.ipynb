{
 "cells": [
  {
   "cell_type": "markdown",
   "metadata": {},
   "source": [
    "## Loan Default Predictor"
   ]
  },
  {
   "cell_type": "markdown",
   "metadata": {},
   "source": [
    "Based on Tree model"
   ]
  },
  {
   "cell_type": "code",
   "execution_count": 1,
   "metadata": {},
   "outputs": [],
   "source": [
    "from sklearn import tree\n",
    "from sklearn.model_selection import train_test_split\n",
    "from sklearn.tree import DecisionTreeClassifier\n",
    "import pandas as pd\n",
    "import os\n",
    "\n",
    "import matplotlib.pyplot as plt\n",
    "from matplotlib.colors import ListedColormap\n",
    "from sklearn.model_selection import train_test_split\n",
    "from sklearn.preprocessing import StandardScaler\n",
    "from sklearn.neural_network import MLPClassifier\n",
    "from sklearn.neighbors import KNeighborsClassifier\n",
    "from sklearn.svm import SVC\n",
    "from sklearn.gaussian_process import GaussianProcessClassifier\n",
    "from sklearn.gaussian_process.kernels import RBF\n",
    "from sklearn.ensemble import RandomForestClassifier, AdaBoostClassifier\n",
    "from sklearn.naive_bayes import GaussianNB\n",
    "from sklearn.discriminant_analysis import QuadraticDiscriminantAnalysis"
   ]
  },
  {
   "cell_type": "code",
   "execution_count": 2,
   "metadata": {},
   "outputs": [],
   "source": [
    "loan = pd.read_csv(\"DataSets/clean_loan_data_2017.csv\", low_memory=False)"
   ]
  },
  {
   "cell_type": "code",
   "execution_count": 3,
   "metadata": {},
   "outputs": [],
   "source": [
    "# for loans in loan:\n",
    "#     if loans[\"loan_status\"] == \"Current\":\n",
    "#         result = 0\n",
    "#     elif loans[\"loan_status\"] == \"Charged Off\":\n",
    "#         result = 1\n",
    "#     elif loans[\"loan_status\"] == \"Fully Paid\":\n",
    "#         result = 2\n",
    "#     elif loans[\"loan_status\"] == \"In Grace Period\":\n",
    "#         result = 3\n",
    "#     elif loans[\"loan_status\"] == \"Late (16-30 days)\":\n",
    "#         result = 4\n",
    "#     elif loans[\"loan_status\"] == \"Late (31-120 days)\":\n",
    "#         result = 5\n",
    "        \n",
    "    "
   ]
  },
  {
   "cell_type": "code",
   "execution_count": 4,
   "metadata": {},
   "outputs": [],
   "source": [
    "target = loan[\"loan_status\"]\n",
    "target_names = [\"current\", \"charged off\",\"fully paid\",\"in grace period\",\"late (16-30 days)\", \"late (31-120 days)\"]\n",
    "\n"
   ]
  },
  {
   "cell_type": "code",
   "execution_count": 5,
   "metadata": {},
   "outputs": [
    {
     "data": {
      "text/plain": [
       "out_prncp          False\n",
       "last_pymnt_amnt    False\n",
       "dtype: bool"
      ]
     },
     "execution_count": 5,
     "metadata": {},
     "output_type": "execute_result"
    }
   ],
   "source": [
    "data = loan.drop([\"funded_amnt_inv\", \"dti\", \"inq_last_6mths\", \"open_acc\", \"pub_rec\", \"revol_bal\", \"out_prncp_inv\", \n",
    "\"total_rec_prncp\", \"total_rec_late_fee\", \"recoveries\", \"collection_recovery_fee\", \"collections_12_mths_ex_med\",\n",
    "\"policy_code\", \"tot_coll_amt\", \"open_acc_6m\", \"open_act_il\", \"open_il_12m\", \"open_il_24m\", \"mths_since_rcnt_il\",\n",
    "\"total_bal_il\", \"il_util\", \"open_rv_12m\", \"open_rv_24m\", \"all_util\", \"total_rev_hi_lim\", \"total_cu_tl\",\n",
    "\"inq_last_12m\", \"chargeoff_within_12_mths\", \"mo_sin_old_il_acct\", \"mo_sin_old_rev_tl_op\", \"mo_sin_rcnt_rev_tl_op\", \n",
    "\"mo_sin_rcnt_tl\", \"mort_acc\", \"mths_since_recent_bc\", \"mths_since_recent_inq\", \"num_actv_bc_tl\", \"num_actv_rev_tl\", \n",
    "\"num_bc_sats\", \"num_bc_tl\", \"num_il_tl\", \"num_op_rev_tl\", \"num_rev_accts\", \"num_rev_tl_bal_gt_0\", \"num_sats\", \"percent_bc_gt_75\", \n",
    "\"pub_rec_bankruptcies\", \"tax_liens\", \"total_bc_limit\", \"total_il_high_credit_limit\",\n",
    "\"orig_projected_additional_accrued_interest\",\"last_pymnt_d\",\"next_pymnt_d\",\n",
    "\"grade\", \"sub_grade\", \"emp_title\", \"emp_length\", \"home_ownership\", \"verification_status\", \"issue_d\", \"loan_status\", \"pymnt_plan\",\n",
    "\"url\", \"desc\", \"purpose\", \"title\", \"zip_code\", \"addr_state\", \"earliest_cr_line\", \"mths_since_last_delinq\", \n",
    "\"mths_since_last_record\", \"revol_util\", \"initial_list_status\", \"last_pymnt_d\", \"next_pymnt_d\", \"last_credit_pull_d\", \n",
    "\"mths_since_last_major_derog\", \"application_type\", \"annual_inc_joint\", \"dti_joint\", \"verification_status_joint\", \n",
    "\"bc_open_to_buy\", \"bc_util\", \"mths_since_recent_bc_dlq\", \"mths_since_recent_revol_delinq\", \"num_tl_120dpd_2m\",\n",
    "\"revol_bal_joint\", \"sec_app_earliest_cr_line\", \"sec_app_inq_last_6mths\", \"sec_app_mort_acc\", \"sec_app_open_acc\", \n",
    "\"sec_app_revol_util\", \"sec_app_open_act_il\", \"sec_app_num_rev_accts\", \"sec_app_chargeoff_within_12_mths\", \n",
    "\"sec_app_collections_12_mths_ex_med\", \"sec_app_mths_since_last_major_derog\", \"hardship_flag\", \"hardship_type\", \n",
    "\"hardship_reason\", \"hardship_status\", \"deferral_term\", \"hardship_amount\", \"hardship_start_date\", \"hardship_end_date\",\n",
    "\"payment_plan_start_date\", \"hardship_length\", \"hardship_dpd\", \"hardship_loan_status\", \"hardship_payoff_balance_amount\", \n",
    "\"hardship_last_payment_amount\", \"disbursement_method\", \"debt_settlement_flag\", \"debt_settlement_flag_date\", \"settlement_status\",\n",
    "\"settlement_date\", \"settlement_amount\", \"settlement_percentage\", \"settlement_term\",\"int_rate\",\"term\",\"id\",\"member_id\",\n",
    "\"acc_now_delinq\",\"delinq_amnt\",\"num_tl_30dpd\",\"num_tl_90g_dpd_24m\",\"delinq_2yrs\",\"num_accts_ever_120_pd\",\"inq_fi\",\n",
    "\"num_tl_op_past_12m\",\"pct_tl_nvr_dlq\",\"acc_open_past_24mths\",\"total_acc\",\"tot_cur_bal\",\"max_bal_bc\",\n",
    "\"avg_cur_bal\",\"total_bal_ex_mort\",\"tot_hi_cred_lim\",\"funded_amnt\",\"loan_amnt\",\"installment\",\"total_rec_int\",\n",
    "\"total_pymnt_inv\",\"total_pymnt\",\"annual_inc\"],axis=1)\n",
    "\n",
    "feature_names = data.columns\n",
    "\n",
    "\n",
    "data.isnull().any()\n",
    "\n"
   ]
  },
  {
   "cell_type": "code",
   "execution_count": 6,
   "metadata": {},
   "outputs": [],
   "source": [
    "from sklearn.model_selection import train_test_split\n",
    "X_train, X_test, y_train, y_test = train_test_split(data, target, random_state=42)"
   ]
  },
  {
   "cell_type": "code",
   "execution_count": 13,
   "metadata": {},
   "outputs": [
    {
     "name": "stderr",
     "output_type": "stream",
     "text": [
      "C:\\Users\\BIGDATADUDE\\Anaconda3\\envs\\PythonData\\lib\\site-packages\\sklearn\\discriminant_analysis.py:682: UserWarning: Variables are collinear\n",
      "  warnings.warn(\"Variables are collinear\")\n",
      "C:\\Users\\BIGDATADUDE\\Anaconda3\\envs\\PythonData\\lib\\site-packages\\sklearn\\discriminant_analysis.py:706: RuntimeWarning: divide by zero encountered in power\n",
      "  X2 = np.dot(Xm, R * (S ** (-0.5)))\n",
      "C:\\Users\\BIGDATADUDE\\Anaconda3\\envs\\PythonData\\lib\\site-packages\\sklearn\\discriminant_analysis.py:706: RuntimeWarning: invalid value encountered in multiply\n",
      "  X2 = np.dot(Xm, R * (S ** (-0.5)))\n",
      "C:\\Users\\BIGDATADUDE\\Anaconda3\\envs\\PythonData\\lib\\site-packages\\sklearn\\discriminant_analysis.py:709: RuntimeWarning: divide by zero encountered in log\n",
      "  u = np.asarray([np.sum(np.log(s)) for s in self.scalings_])\n"
     ]
    },
    {
     "data": {
      "text/plain": [
       "0.07108344173945363"
      ]
     },
     "execution_count": 13,
     "metadata": {},
     "output_type": "execute_result"
    }
   ],
   "source": [
    "from sklearn.discriminant_analysis import QuadraticDiscriminantAnalysis\n",
    "QDAC = QuadraticDiscriminantAnalysis()\n",
    "QDAC = QDAC.fit(X_train, y_train)\n",
    "QDAC.score(X_test, y_test)"
   ]
  },
  {
   "cell_type": "code",
   "execution_count": 9,
   "metadata": {},
   "outputs": [
    {
     "data": {
      "text/plain": [
       "0.6899275227652852"
      ]
     },
     "execution_count": 9,
     "metadata": {},
     "output_type": "execute_result"
    }
   ],
   "source": [
    "from sklearn.ensemble import AdaBoostClassifier\n",
    "adbC = AdaBoostClassifier()\n",
    "adbC = adbC.fit(X_train, y_train)\n",
    "adbC.score(X_test, y_test)"
   ]
  },
  {
   "cell_type": "code",
   "execution_count": 36,
   "metadata": {},
   "outputs": [
    {
     "data": {
      "text/plain": [
       "0.9003902620330794"
      ]
     },
     "execution_count": 36,
     "metadata": {},
     "output_type": "execute_result"
    }
   ],
   "source": [
    "from sklearn.neural_network import MLPClassifier\n",
    "\n",
    "mlpC2 = MLPClassifier(alpha=1.5)\n",
    "mlpC2 = mlpC2.fit(X_train, y_train)\n",
    "mlpC2.score(X_test, y_test)"
   ]
  },
  {
   "cell_type": "code",
   "execution_count": 7,
   "metadata": {},
   "outputs": [
    {
     "data": {
      "text/plain": [
       "0.926036052778294"
      ]
     },
     "execution_count": 7,
     "metadata": {},
     "output_type": "execute_result"
    }
   ],
   "source": [
    "clf = tree.DecisionTreeClassifier()\n",
    "clf = clf.fit(X_train, y_train)\n",
    "clf.score(X_test, y_test)"
   ]
  },
  {
   "cell_type": "code",
   "execution_count": 8,
   "metadata": {},
   "outputs": [
    {
     "data": {
      "text/plain": [
       "0.9432261661401227"
      ]
     },
     "execution_count": 8,
     "metadata": {},
     "output_type": "execute_result"
    }
   ],
   "source": [
    "from sklearn.tree import DecisionTreeClassifier\n",
    "DTC = DecisionTreeClassifier(max_depth=7)\n",
    "DTC = DTC.fit(X_train, y_train)\n",
    "DTC.score(X_test, y_test)"
   ]
  },
  {
   "cell_type": "code",
   "execution_count": 10,
   "metadata": {},
   "outputs": [
    {
     "data": {
      "text/plain": [
       "0.9393235458093291"
      ]
     },
     "execution_count": 10,
     "metadata": {},
     "output_type": "execute_result"
    }
   ],
   "source": [
    "from sklearn.ensemble import RandomForestClassifier\n",
    "rf1 = RandomForestClassifier(n_estimators=2000)\n",
    "rf1 = rf1.fit(X_train, y_train)\n",
    "rf1.score(X_test, y_test)"
   ]
  },
  {
   "cell_type": "code",
   "execution_count": 11,
   "metadata": {},
   "outputs": [
    {
     "data": {
      "text/plain": [
       "0.9435049247351793"
      ]
     },
     "execution_count": 11,
     "metadata": {},
     "output_type": "execute_result"
    }
   ],
   "source": [
    "from sklearn.ensemble import RandomForestClassifier\n",
    "rf2 = RandomForestClassifier(max_depth=5, n_estimators=25, max_features=2)\n",
    "rf2 = rf2.fit(X_train, y_train)\n",
    "rf2.score(X_test, y_test)"
   ]
  },
  {
   "cell_type": "code",
   "execution_count": 12,
   "metadata": {},
   "outputs": [
    {
     "data": {
      "text/plain": [
       "0.9403456606578703"
      ]
     },
     "execution_count": 12,
     "metadata": {},
     "output_type": "execute_result"
    }
   ],
   "source": [
    "from sklearn.neighbors import KNeighborsClassifier\n",
    "mlpC = KNeighborsClassifier(3)\n",
    "mlpC= mlpC.fit(X_train, y_train)\n",
    "mlpC.score(X_test, y_test)"
   ]
  },
  {
   "cell_type": "code",
   "execution_count": 43,
   "metadata": {},
   "outputs": [
    {
     "data": {
      "text/plain": [
       "0.9357926036052778"
      ]
     },
     "execution_count": 43,
     "metadata": {},
     "output_type": "execute_result"
    }
   ],
   "source": [
    "from sklearn.neural_network import MLPClassifier\n",
    "mlpC1 = MLPClassifier(6)\n",
    "mlpC1 = mlpC1.fit(X_train, y_train)\n",
    "mlpC1.score(X_test, y_test)"
   ]
  },
  {
   "cell_type": "code",
   "execution_count": null,
   "metadata": {},
   "outputs": [],
   "source": [
    "from sklearn.svm import SVC\n",
    "scvC = SVC(kernel=\"linear\", C=0.025)\n",
    "scvC = scvC.fit(X_train, y_train)\n",
    "scvC.score(X_test, y_test)"
   ]
  },
  {
   "cell_type": "code",
   "execution_count": null,
   "metadata": {},
   "outputs": [],
   "source": [
    "from sklearn.svm import SVC\n",
    "svcG = SVC(gamma=2, C=1)\n",
    "svcG = svcG.fit(X_train, y_train)\n",
    "svcG.score(X_test, y_test)"
   ]
  },
  {
   "cell_type": "code",
   "execution_count": null,
   "metadata": {},
   "outputs": [],
   "source": [
    "from sklearn.gaussian_process import GaussianProcessClassifier\n",
    "gauC1 = GaussianProcessClassifier(1.0 * RBF(1.0))\n",
    "gauC1 = gauC1.fit(X_train, y_train)\n",
    "gauC1.score(X_test, y_test)"
   ]
  },
  {
   "cell_type": "code",
   "execution_count": null,
   "metadata": {},
   "outputs": [],
   "source": [
    "from sklearn.naive_bayes import GaussianNB\n",
    "gauC2 = GaussianProcessClassifier()\n",
    "gauC2 = gauC2.fit(X_train, y_train)\n",
    "gauC2.score(X_test, y_test)"
   ]
  },
  {
   "cell_type": "code",
   "execution_count": null,
   "metadata": {},
   "outputs": [],
   "source": []
  },
  {
   "cell_type": "code",
   "execution_count": null,
   "metadata": {},
   "outputs": [],
   "source": []
  },
  {
   "cell_type": "code",
   "execution_count": null,
   "metadata": {},
   "outputs": [],
   "source": [
    "sorted(zip(rf.feature_importances_, feature_names), reverse=True)"
   ]
  },
  {
   "cell_type": "code",
   "execution_count": null,
   "metadata": {},
   "outputs": [],
   "source": [
    "predictions = rf.predict(X_test)"
   ]
  },
  {
   "cell_type": "code",
   "execution_count": null,
   "metadata": {},
   "outputs": [],
   "source": [
    "predictions"
   ]
  },
  {
   "cell_type": "code",
   "execution_count": null,
   "metadata": {},
   "outputs": [],
   "source": [
    "df = pd.DataFrame({\"Prediction\": predictions, \"Actual\": y_test}).reset_index(drop=True)"
   ]
  },
  {
   "cell_type": "code",
   "execution_count": null,
   "metadata": {},
   "outputs": [],
   "source": [
    "# df.to_csv(\"output.csv\", index=False)"
   ]
  },
  {
   "cell_type": "code",
   "execution_count": null,
   "metadata": {
    "scrolled": true
   },
   "outputs": [],
   "source": [
    "df.head()"
   ]
  },
  {
   "cell_type": "code",
   "execution_count": null,
   "metadata": {},
   "outputs": [],
   "source": [
    "loan2018 = pd.read_csv(\"DataSets/clean_loan_data_2018.csv\", low_memory=False)"
   ]
  },
  {
   "cell_type": "code",
   "execution_count": null,
   "metadata": {},
   "outputs": [],
   "source": [
    "X_test2018 = loan.drop([\"funded_amnt_inv\", \"dti\", \"inq_last_6mths\", \"open_acc\", \"pub_rec\", \"revol_bal\", \"out_prncp_inv\", \"total_rec_prncp\", \"total_rec_late_fee\", \"recoveries\", \"collection_recovery_fee\", \"collections_12_mths_ex_med\", \"policy_code\", \"tot_coll_amt\", \"open_acc_6m\", \"open_act_il\", \"open_il_12m\", \"open_il_24m\", \"mths_since_rcnt_il\", \"total_bal_il\", \"il_util\", \"open_rv_12m\", \"open_rv_24m\", \"all_util\", \"total_rev_hi_lim\", \"total_cu_tl\", \"inq_last_12m\", \"chargeoff_within_12_mths\", \"mo_sin_old_il_acct\", \"mo_sin_old_rev_tl_op\", \"mo_sin_rcnt_rev_tl_op\", \"mo_sin_rcnt_tl\", \"mort_acc\", \"mths_since_recent_bc\", \"mths_since_recent_inq\", \"num_actv_bc_tl\", \"num_actv_rev_tl\", \"num_bc_sats\", \"num_bc_tl\", \"num_il_tl\", \"num_op_rev_tl\", \"num_rev_accts\", \"num_rev_tl_bal_gt_0\", \"num_sats\", \"percent_bc_gt_75\", \"pub_rec_bankruptcies\", \"tax_liens\", \"total_bc_limit\", \"total_il_high_credit_limit\", \"orig_projected_additional_accrued_interest\",\"last_pymnt_d\",\"next_pymnt_d\",\n",
    "\"grade\", \"sub_grade\", \"emp_title\", \"emp_length\", \"home_ownership\", \"verification_status\", \"issue_d\", \"loan_status\", \"pymnt_plan\", \"url\", \"desc\", \"purpose\", \"title\", \"zip_code\", \"addr_state\", \"earliest_cr_line\", \"mths_since_last_delinq\", \"mths_since_last_record\", \"revol_util\", \"initial_list_status\", \"last_pymnt_d\", \"next_pymnt_d\", \"last_credit_pull_d\", \"mths_since_last_major_derog\", \"application_type\", \"annual_inc_joint\", \"dti_joint\", \"verification_status_joint\", \"bc_open_to_buy\", \"bc_util\", \"mths_since_recent_bc_dlq\", \"mths_since_recent_revol_delinq\", \"num_tl_120dpd_2m\", \"revol_bal_joint\", \"sec_app_earliest_cr_line\", \"sec_app_inq_last_6mths\", \"sec_app_mort_acc\", \"sec_app_open_acc\", \"sec_app_revol_util\", \"sec_app_open_act_il\", \"sec_app_num_rev_accts\", \"sec_app_chargeoff_within_12_mths\", \"sec_app_collections_12_mths_ex_med\", \"sec_app_mths_since_last_major_derog\", \"hardship_flag\", \"hardship_type\", \"hardship_reason\", \"hardship_status\", \"deferral_term\", \n",
    "\"hardship_amount\", \"hardship_start_date\", \"hardship_end_date\", \"payment_plan_start_date\", \"hardship_length\", \"hardship_dpd\", \"hardship_loan_status\", \"hardship_payoff_balance_amount\", \"hardship_last_payment_amount\", \"disbursement_method\", \"debt_settlement_flag\", \"debt_settlement_flag_date\", \"settlement_status\", \"settlement_date\", \"settlement_amount\", \"settlement_percentage\", \"settlement_term\",\"int_rate\",\"term\",\"id\",\"member_id\",\"acc_now_delinq\",\n",
    "\"delinq_amnt\",\"num_tl_30dpd\",\"num_tl_90g_dpd_24m\",\"delinq_2yrs\",\"num_accts_ever_120_pd\",\"inq_fi\",\"num_tl_op_past_12m\",\"pct_tl_nvr_dlq\",\"acc_open_past_24mths\",\"total_acc\",\"tot_cur_bal\",\"max_bal_bc\",\"avg_cur_bal\",\"total_bal_ex_mort\",\"tot_hi_cred_lim\",\"funded_amnt\",\"loan_amnt\",\"installment\",\"total_rec_int\",\"total_pymnt_inv\",\"total_pymnt\",\"annual_inc\"],axis=1)\n",
    "y_test2018 = loan[\"loan_status\"]"
   ]
  },
  {
   "cell_type": "code",
   "execution_count": null,
   "metadata": {},
   "outputs": [],
   "source": [
    "predictions2018 = rf.predict(X_test2018)"
   ]
  },
  {
   "cell_type": "code",
   "execution_count": null,
   "metadata": {},
   "outputs": [],
   "source": [
    "df2018 = pd.DataFrame({\"Prediction\": predictions2018, \"Actual\": y_test2018}).reset_index(drop=True)\n",
    "df2018.head()"
   ]
  },
  {
   "cell_type": "code",
   "execution_count": null,
   "metadata": {},
   "outputs": [],
   "source": [
    "rf.score(X_test2018, y_test2018)"
   ]
  },
  {
   "cell_type": "code",
   "execution_count": null,
   "metadata": {},
   "outputs": [],
   "source": [
    "classifiers = [\n",
    "    KNeighborsClassifier(3),\n",
    "    SVC(kernel=\"linear\", C=0.025),\n",
    "    SVC(gamma=2, C=1),\n",
    "    GaussianProcessClassifier(1.0 * RBF(1.0)),\n",
    "    DecisionTreeClassifier(max_depth=5),\n",
    "    RandomForestClassifier(max_depth=5, n_estimators=10, max_features=1),\n",
    "    MLPClassifier(alpha=1),\n",
    "    AdaBoostClassifier(),\n",
    "    GaussianNB(),\n",
    "    QuadraticDiscriminantAnalysis()]\n",
    "\n",
    "import matplotlib.pyplot as plt\n",
    "from matplotlib.colors import ListedColormap\n",
    "from sklearn.model_selection import train_test_split\n",
    "from sklearn.preprocessing import StandardScaler\n",
    "from sklearn.neural_network import MLPClassifier\n",
    "from sklearn.neighbors import KNeighborsClassifier\n",
    "from sklearn.svm import SVC\n",
    "from sklearn.gaussian_process import GaussianProcessClassifier\n",
    "from sklearn.gaussian_process.kernels import RBF\n",
    "from sklearn.ensemble import RandomForestClassifier, AdaBoostClassifier\n",
    "from sklearn.naive_bayes import GaussianNB\n",
    "from sklearn.discriminant_analysis import QuadraticDiscriminantAnalysis"
   ]
  }
 ],
 "metadata": {
  "kernelspec": {
   "display_name": "Python 3",
   "language": "python",
   "name": "python3"
  },
  "language_info": {
   "codemirror_mode": {
    "name": "ipython",
    "version": 3
   },
   "file_extension": ".py",
   "mimetype": "text/x-python",
   "name": "python",
   "nbconvert_exporter": "python",
   "pygments_lexer": "ipython3",
   "version": "3.6.6"
  }
 },
 "nbformat": 4,
 "nbformat_minor": 2
}

{
 "cells": [
  {
   "cell_type": "markdown",
   "metadata": {},
   "source": [
    "## Testing "
   ]
  },
  {
   "cell_type": "code",
   "execution_count": 1,
   "metadata": {},
   "outputs": [],
   "source": [
    "%matplotlib inline\n",
    "import matplotlib.pyplot as plt\n",
    "import numpy as np\n",
    "import pandas as pd\n",
    "\n",
    "import seaborn as sns\n",
    "sns.set_style('whitegrid')\n",
    "\n",
    "# ignore Deprecation Warning\n",
    "import warnings \n",
    "warnings.filterwarnings(\"ignore\") \n"
   ]
  },
  {
   "cell_type": "code",
   "execution_count": 2,
   "metadata": {},
   "outputs": [
    {
     "data": {
      "text/html": [
       "<div>\n",
       "<style scoped>\n",
       "    .dataframe tbody tr th:only-of-type {\n",
       "        vertical-align: middle;\n",
       "    }\n",
       "\n",
       "    .dataframe tbody tr th {\n",
       "        vertical-align: top;\n",
       "    }\n",
       "\n",
       "    .dataframe thead th {\n",
       "        text-align: right;\n",
       "    }\n",
       "</style>\n",
       "<table border=\"1\" class=\"dataframe\">\n",
       "  <thead>\n",
       "    <tr style=\"text-align: right;\">\n",
       "      <th></th>\n",
       "      <th>loan_amnt</th>\n",
       "      <th>funded_amnt_inv</th>\n",
       "      <th>term</th>\n",
       "      <th>int_rate</th>\n",
       "      <th>installment</th>\n",
       "      <th>grade</th>\n",
       "      <th>sub_grade</th>\n",
       "      <th>emp_title</th>\n",
       "      <th>emp_length</th>\n",
       "      <th>home_ownership</th>\n",
       "      <th>...</th>\n",
       "      <th>percent_bc_gt_75</th>\n",
       "      <th>pub_rec_bankruptcies</th>\n",
       "      <th>tax_liens</th>\n",
       "      <th>tot_hi_cred_lim</th>\n",
       "      <th>total_bal_ex_mort</th>\n",
       "      <th>total_bc_limit</th>\n",
       "      <th>total_il_high_credit_limit</th>\n",
       "      <th>hardship_flag</th>\n",
       "      <th>disbursement_method</th>\n",
       "      <th>debt_settlement_flag</th>\n",
       "    </tr>\n",
       "  </thead>\n",
       "  <tbody>\n",
       "    <tr>\n",
       "      <th>0</th>\n",
       "      <td>11875</td>\n",
       "      <td>11875.0</td>\n",
       "      <td>36 months</td>\n",
       "      <td>11.44%</td>\n",
       "      <td>391.26</td>\n",
       "      <td>B</td>\n",
       "      <td>B4</td>\n",
       "      <td>Shop foreman</td>\n",
       "      <td>10+ years</td>\n",
       "      <td>MORTGAGE</td>\n",
       "      <td>...</td>\n",
       "      <td>25.0</td>\n",
       "      <td>0</td>\n",
       "      <td>0</td>\n",
       "      <td>319205</td>\n",
       "      <td>61637</td>\n",
       "      <td>24300</td>\n",
       "      <td>56205</td>\n",
       "      <td>N</td>\n",
       "      <td>Cash</td>\n",
       "      <td>N</td>\n",
       "    </tr>\n",
       "    <tr>\n",
       "      <th>1</th>\n",
       "      <td>1500</td>\n",
       "      <td>1500.0</td>\n",
       "      <td>36 months</td>\n",
       "      <td>5.32%</td>\n",
       "      <td>45.18</td>\n",
       "      <td>A</td>\n",
       "      <td>A1</td>\n",
       "      <td>Auto Technician</td>\n",
       "      <td>3 years</td>\n",
       "      <td>MORTGAGE</td>\n",
       "      <td>...</td>\n",
       "      <td>0.0</td>\n",
       "      <td>0</td>\n",
       "      <td>0</td>\n",
       "      <td>163700</td>\n",
       "      <td>10658</td>\n",
       "      <td>14000</td>\n",
       "      <td>5200</td>\n",
       "      <td>N</td>\n",
       "      <td>Cash</td>\n",
       "      <td>N</td>\n",
       "    </tr>\n",
       "    <tr>\n",
       "      <th>2</th>\n",
       "      <td>8500</td>\n",
       "      <td>8500.0</td>\n",
       "      <td>36 months</td>\n",
       "      <td>13.99%</td>\n",
       "      <td>290.47</td>\n",
       "      <td>C</td>\n",
       "      <td>C3</td>\n",
       "      <td>Sr Systems Engineer</td>\n",
       "      <td>6 years</td>\n",
       "      <td>MORTGAGE</td>\n",
       "      <td>...</td>\n",
       "      <td>66.7</td>\n",
       "      <td>0</td>\n",
       "      <td>0</td>\n",
       "      <td>223695</td>\n",
       "      <td>41040</td>\n",
       "      <td>8500</td>\n",
       "      <td>58463</td>\n",
       "      <td>N</td>\n",
       "      <td>Cash</td>\n",
       "      <td>N</td>\n",
       "    </tr>\n",
       "    <tr>\n",
       "      <th>3</th>\n",
       "      <td>10000</td>\n",
       "      <td>10000.0</td>\n",
       "      <td>36 months</td>\n",
       "      <td>12.74%</td>\n",
       "      <td>335.69</td>\n",
       "      <td>C</td>\n",
       "      <td>C1</td>\n",
       "      <td>Network Administrator</td>\n",
       "      <td>4 years</td>\n",
       "      <td>MORTGAGE</td>\n",
       "      <td>...</td>\n",
       "      <td>50.0</td>\n",
       "      <td>0</td>\n",
       "      <td>0</td>\n",
       "      <td>227789</td>\n",
       "      <td>33853</td>\n",
       "      <td>8000</td>\n",
       "      <td>39787</td>\n",
       "      <td>N</td>\n",
       "      <td>Cash</td>\n",
       "      <td>N</td>\n",
       "    </tr>\n",
       "    <tr>\n",
       "      <th>4</th>\n",
       "      <td>20000</td>\n",
       "      <td>20000.0</td>\n",
       "      <td>60 months</td>\n",
       "      <td>15.99%</td>\n",
       "      <td>486.26</td>\n",
       "      <td>C</td>\n",
       "      <td>C5</td>\n",
       "      <td>Instructor</td>\n",
       "      <td>1 year</td>\n",
       "      <td>RENT</td>\n",
       "      <td>...</td>\n",
       "      <td>66.7</td>\n",
       "      <td>0</td>\n",
       "      <td>0</td>\n",
       "      <td>58808</td>\n",
       "      <td>38893</td>\n",
       "      <td>37400</td>\n",
       "      <td>15508</td>\n",
       "      <td>N</td>\n",
       "      <td>Cash</td>\n",
       "      <td>N</td>\n",
       "    </tr>\n",
       "  </tbody>\n",
       "</table>\n",
       "<p>5 rows × 102 columns</p>\n",
       "</div>"
      ],
      "text/plain": [
       "   loan_amnt  funded_amnt_inv        term int_rate  installment grade  \\\n",
       "0      11875          11875.0   36 months   11.44%       391.26     B   \n",
       "1       1500           1500.0   36 months    5.32%        45.18     A   \n",
       "2       8500           8500.0   36 months   13.99%       290.47     C   \n",
       "3      10000          10000.0   36 months   12.74%       335.69     C   \n",
       "4      20000          20000.0   60 months   15.99%       486.26     C   \n",
       "\n",
       "  sub_grade               emp_title emp_length home_ownership  \\\n",
       "0        B4            Shop foreman  10+ years       MORTGAGE   \n",
       "1        A1         Auto Technician    3 years       MORTGAGE   \n",
       "2        C3     Sr Systems Engineer    6 years       MORTGAGE   \n",
       "3        C1  Network Administrator     4 years       MORTGAGE   \n",
       "4        C5              Instructor     1 year           RENT   \n",
       "\n",
       "           ...           percent_bc_gt_75 pub_rec_bankruptcies tax_liens  \\\n",
       "0          ...                       25.0                    0         0   \n",
       "1          ...                        0.0                    0         0   \n",
       "2          ...                       66.7                    0         0   \n",
       "3          ...                       50.0                    0         0   \n",
       "4          ...                       66.7                    0         0   \n",
       "\n",
       "  tot_hi_cred_lim total_bal_ex_mort total_bc_limit total_il_high_credit_limit  \\\n",
       "0          319205             61637          24300                      56205   \n",
       "1          163700             10658          14000                       5200   \n",
       "2          223695             41040           8500                      58463   \n",
       "3          227789             33853           8000                      39787   \n",
       "4           58808             38893          37400                      15508   \n",
       "\n",
       "  hardship_flag disbursement_method  debt_settlement_flag  \n",
       "0             N                Cash                     N  \n",
       "1             N                Cash                     N  \n",
       "2             N                Cash                     N  \n",
       "3             N                Cash                     N  \n",
       "4             N                Cash                     N  \n",
       "\n",
       "[5 rows x 102 columns]"
      ]
     },
     "execution_count": 2,
     "metadata": {},
     "output_type": "execute_result"
    }
   ],
   "source": [
    "# Read the csv file into a pandas DataFrame\n",
    "ld = pd.read_csv('DataSets/clean_loan_data_2017_rev.csv', encoding=\"ISO-8859-1\", engine='python')\n",
    "ld.head()"
   ]
  },
  {
   "cell_type": "code",
   "execution_count": 3,
   "metadata": {},
   "outputs": [],
   "source": [
    "# ld.fillna('0')\n",
    "# ld.head(2)"
   ]
  },
  {
   "cell_type": "code",
   "execution_count": 4,
   "metadata": {},
   "outputs": [
    {
     "data": {
      "text/plain": [
       "2                    9981\n",
       "4                     294\n",
       "3                     170\n",
       "Late (16-30 days)      79\n",
       "Name: loan_status, dtype: int64"
      ]
     },
     "execution_count": 4,
     "metadata": {},
     "output_type": "execute_result"
    }
   ],
   "source": [
    "ld['loan_status'].value_counts()"
   ]
  },
  {
   "cell_type": "code",
   "execution_count": 5,
   "metadata": {},
   "outputs": [
    {
     "data": {
      "text/plain": [
       "2                    0.948404\n",
       "4                    0.027936\n",
       "3                    0.016154\n",
       "Late (16-30 days)    0.007507\n",
       "Name: loan_status, dtype: float64"
      ]
     },
     "execution_count": 5,
     "metadata": {},
     "output_type": "execute_result"
    }
   ],
   "source": [
    "ld['loan_status'].value_counts(normalize=True, dropna=False)"
   ]
  },
  {
   "cell_type": "code",
   "execution_count": 6,
   "metadata": {},
   "outputs": [
    {
     "name": "stdout",
     "output_type": "stream",
     "text": [
      "Shape:  (10524, 1) (10524, 1)\n"
     ]
    },
    {
     "data": {
      "text/plain": [
       "array([[11875],\n",
       "       [ 1500],\n",
       "       [ 8500],\n",
       "       ...,\n",
       "       [15000],\n",
       "       [ 5000],\n",
       "       [30000]], dtype=int64)"
      ]
     },
     "execution_count": 6,
     "metadata": {},
     "output_type": "execute_result"
    }
   ],
   "source": [
    "# Assign the data to X and y\n",
    "# Note: Sklearn requires a two-dimensional array of values\n",
    "# so we use reshape to create this\n",
    "\n",
    "X = ld.loan_amnt.values.reshape(-1, 1)\n",
    "y = ld.loan_status.values.reshape(-1, 1)\n",
    "\n",
    "print(\"Shape: \", X.shape, y.shape)\n",
    "X"
   ]
  },
  {
   "cell_type": "code",
   "execution_count": 7,
   "metadata": {},
   "outputs": [],
   "source": [
    "from sklearn.datasets import make_regression\n",
    "\n",
    "X, y = make_regression(n_samples=60, n_features=1, random_state=0, noise=4, bias=100.0)"
   ]
  },
  {
   "cell_type": "code",
   "execution_count": 8,
   "metadata": {},
   "outputs": [
    {
     "data": {
      "text/plain": [
       "<matplotlib.collections.PathCollection at 0x21e640669e8>"
      ]
     },
     "execution_count": 8,
     "metadata": {},
     "output_type": "execute_result"
    },
    {
     "data": {
      "image/png": "[encoded data removed]",
      "text/plain": [
       "<Figure size 432x288 with 1 Axes>"
      ]
     },
     "metadata": {},
     "output_type": "display_data"
    }
   ],
   "source": [
    "plt.scatter(X, y)"
   ]
  },
  {
   "cell_type": "code",
   "execution_count": 9,
   "metadata": {},
   "outputs": [
    {
     "data": {
      "text/plain": [
       "LinearRegression(copy_X=True, fit_intercept=True, n_jobs=1, normalize=False)"
      ]
     },
     "execution_count": 9,
     "metadata": {},
     "output_type": "execute_result"
    }
   ],
   "source": [
    "from sklearn.linear_model import LinearRegression\n",
    "model = LinearRegression()\n",
    "model"
   ]
  },
  {
   "cell_type": "code",
   "execution_count": 10,
   "metadata": {},
   "outputs": [
    {
     "name": "stdout",
     "output_type": "stream",
     "text": [
      "LinearRegression(copy_X=True, fit_intercept=True, n_jobs=1, normalize=False)\n"
     ]
    }
   ],
   "source": [
    "model.fit(X, y)\n",
    "print(model)"
   ]
  },
  {
   "cell_type": "code",
   "execution_count": 11,
   "metadata": {},
   "outputs": [
    {
     "name": "stdout",
     "output_type": "stream",
     "text": [
      "Weight coefficients:  [28.72821944]\n",
      "y-axis intercept:  100.57095282715062\n"
     ]
    }
   ],
   "source": [
    "print('Weight coefficients: ', model.coef_)\n",
    "print('y-axis intercept: ', model.intercept_) "
   ]
  },
  {
   "cell_type": "code",
   "execution_count": 12,
   "metadata": {},
   "outputs": [
    {
     "name": "stdout",
     "output_type": "stream",
     "text": [
      "True output: 108.33885149409025\n",
      "Predicted output: 105.02231647484277\n",
      "Prediction Error: -3.316535019247482\n"
     ]
    }
   ],
   "source": [
    "predictions = model.predict(X)\n",
    "print(f\"True output: {y[0]}\")\n",
    "print(f\"Predicted output: {predictions[0]}\")\n",
    "print(f\"Prediction Error: {predictions[0]-y[0]}\")"
   ]
  },
  {
   "cell_type": "code",
   "execution_count": 95,
   "metadata": {},
   "outputs": [
    {
     "data": {
      "text/html": [
       "<div>\n",
       "<style scoped>\n",
       "    .dataframe tbody tr th:only-of-type {\n",
       "        vertical-align: middle;\n",
       "    }\n",
       "\n",
       "    .dataframe tbody tr th {\n",
       "        vertical-align: top;\n",
       "    }\n",
       "\n",
       "    .dataframe thead th {\n",
       "        text-align: right;\n",
       "    }\n",
       "</style>\n",
       "<table border=\"1\" class=\"dataframe\">\n",
       "  <thead>\n",
       "    <tr style=\"text-align: right;\">\n",
       "      <th></th>\n",
       "      <th>Predicted</th>\n",
       "      <th>Actual</th>\n",
       "      <th>Error</th>\n",
       "    </tr>\n",
       "  </thead>\n",
       "  <tbody>\n",
       "    <tr>\n",
       "      <th>0</th>\n",
       "      <td>105.022316</td>\n",
       "      <td>108.338851</td>\n",
       "      <td>-3.316535</td>\n",
       "    </tr>\n",
       "    <tr>\n",
       "      <th>1</th>\n",
       "      <td>113.322353</td>\n",
       "      <td>109.180961</td>\n",
       "      <td>4.141392</td>\n",
       "    </tr>\n",
       "    <tr>\n",
       "      <th>2</th>\n",
       "      <td>94.677121</td>\n",
       "      <td>88.920894</td>\n",
       "      <td>5.756227</td>\n",
       "    </tr>\n",
       "    <tr>\n",
       "      <th>3</th>\n",
       "      <td>135.915013</td>\n",
       "      <td>138.859409</td>\n",
       "      <td>-2.944395</td>\n",
       "    </tr>\n",
       "    <tr>\n",
       "      <th>4</th>\n",
       "      <td>127.865301</td>\n",
       "      <td>128.819939</td>\n",
       "      <td>-0.954638</td>\n",
       "    </tr>\n",
       "    <tr>\n",
       "      <th>5</th>\n",
       "      <td>90.576056</td>\n",
       "      <td>94.095491</td>\n",
       "      <td>-3.519434</td>\n",
       "    </tr>\n",
       "    <tr>\n",
       "      <th>6</th>\n",
       "      <td>43.666197</td>\n",
       "      <td>42.169785</td>\n",
       "      <td>1.496412</td>\n",
       "    </tr>\n",
       "    <tr>\n",
       "      <th>7</th>\n",
       "      <td>110.156822</td>\n",
       "      <td>113.952958</td>\n",
       "      <td>-3.796136</td>\n",
       "    </tr>\n",
       "    <tr>\n",
       "      <th>8</th>\n",
       "      <td>109.260432</td>\n",
       "      <td>100.994293</td>\n",
       "      <td>8.266138</td>\n",
       "    </tr>\n",
       "    <tr>\n",
       "      <th>9</th>\n",
       "      <td>51.552848</td>\n",
       "      <td>53.593745</td>\n",
       "      <td>-2.040896</td>\n",
       "    </tr>\n",
       "    <tr>\n",
       "      <th>10</th>\n",
       "      <td>109.564830</td>\n",
       "      <td>112.972196</td>\n",
       "      <td>-3.407366</td>\n",
       "    </tr>\n",
       "    <tr>\n",
       "      <th>11</th>\n",
       "      <td>143.493184</td>\n",
       "      <td>145.612037</td>\n",
       "      <td>-2.118852</td>\n",
       "    </tr>\n",
       "    <tr>\n",
       "      <th>12</th>\n",
       "      <td>74.845793</td>\n",
       "      <td>79.578543</td>\n",
       "      <td>-4.732750</td>\n",
       "    </tr>\n",
       "    <tr>\n",
       "      <th>13</th>\n",
       "      <td>87.985858</td>\n",
       "      <td>81.066413</td>\n",
       "      <td>6.919445</td>\n",
       "    </tr>\n",
       "    <tr>\n",
       "      <th>14</th>\n",
       "      <td>85.929553</td>\n",
       "      <td>88.258029</td>\n",
       "      <td>-2.328476</td>\n",
       "    </tr>\n",
       "    <tr>\n",
       "      <th>15</th>\n",
       "      <td>102.481874</td>\n",
       "      <td>98.113589</td>\n",
       "      <td>4.368285</td>\n",
       "    </tr>\n",
       "    <tr>\n",
       "      <th>16</th>\n",
       "      <td>151.249036</td>\n",
       "      <td>150.826170</td>\n",
       "      <td>0.422866</td>\n",
       "    </tr>\n",
       "    <tr>\n",
       "      <th>17</th>\n",
       "      <td>154.222569</td>\n",
       "      <td>157.785103</td>\n",
       "      <td>-3.562535</td>\n",
       "    </tr>\n",
       "    <tr>\n",
       "      <th>18</th>\n",
       "      <td>97.605659</td>\n",
       "      <td>97.585909</td>\n",
       "      <td>0.019750</td>\n",
       "    </tr>\n",
       "    <tr>\n",
       "      <th>19</th>\n",
       "      <td>72.495499</td>\n",
       "      <td>78.223547</td>\n",
       "      <td>-5.728048</td>\n",
       "    </tr>\n",
       "    <tr>\n",
       "      <th>20</th>\n",
       "      <td>165.776962</td>\n",
       "      <td>166.934329</td>\n",
       "      <td>-1.157368</td>\n",
       "    </tr>\n",
       "    <tr>\n",
       "      <th>21</th>\n",
       "      <td>125.404666</td>\n",
       "      <td>119.817288</td>\n",
       "      <td>5.587377</td>\n",
       "    </tr>\n",
       "    <tr>\n",
       "      <th>22</th>\n",
       "      <td>94.459303</td>\n",
       "      <td>86.727672</td>\n",
       "      <td>7.731631</td>\n",
       "    </tr>\n",
       "    <tr>\n",
       "      <th>23</th>\n",
       "      <td>122.434212</td>\n",
       "      <td>119.184062</td>\n",
       "      <td>3.250149</td>\n",
       "    </tr>\n",
       "    <tr>\n",
       "      <th>24</th>\n",
       "      <td>112.066757</td>\n",
       "      <td>108.887274</td>\n",
       "      <td>3.179483</td>\n",
       "    </tr>\n",
       "    <tr>\n",
       "      <th>25</th>\n",
       "      <td>119.348251</td>\n",
       "      <td>125.458303</td>\n",
       "      <td>-6.110052</td>\n",
       "    </tr>\n",
       "    <tr>\n",
       "      <th>26</th>\n",
       "      <td>59.776366</td>\n",
       "      <td>58.160940</td>\n",
       "      <td>1.615426</td>\n",
       "    </tr>\n",
       "    <tr>\n",
       "      <th>27</th>\n",
       "      <td>96.222730</td>\n",
       "      <td>88.615019</td>\n",
       "      <td>7.607710</td>\n",
       "    </tr>\n",
       "    <tr>\n",
       "      <th>28</th>\n",
       "      <td>104.066459</td>\n",
       "      <td>105.127941</td>\n",
       "      <td>-1.061482</td>\n",
       "    </tr>\n",
       "    <tr>\n",
       "      <th>29</th>\n",
       "      <td>64.580373</td>\n",
       "      <td>58.618833</td>\n",
       "      <td>5.961539</td>\n",
       "    </tr>\n",
       "    <tr>\n",
       "      <th>30</th>\n",
       "      <td>66.653492</td>\n",
       "      <td>70.239520</td>\n",
       "      <td>-3.586028</td>\n",
       "    </tr>\n",
       "    <tr>\n",
       "      <th>31</th>\n",
       "      <td>111.685973</td>\n",
       "      <td>118.912039</td>\n",
       "      <td>-7.226067</td>\n",
       "    </tr>\n",
       "    <tr>\n",
       "      <th>32</th>\n",
       "      <td>111.434889</td>\n",
       "      <td>110.180480</td>\n",
       "      <td>1.254409</td>\n",
       "    </tr>\n",
       "    <tr>\n",
       "      <th>33</th>\n",
       "      <td>91.886333</td>\n",
       "      <td>98.537177</td>\n",
       "      <td>-6.650844</td>\n",
       "    </tr>\n",
       "    <tr>\n",
       "      <th>34</th>\n",
       "      <td>101.885514</td>\n",
       "      <td>103.243690</td>\n",
       "      <td>-1.358176</td>\n",
       "    </tr>\n",
       "    <tr>\n",
       "      <th>35</th>\n",
       "      <td>54.206541</td>\n",
       "      <td>54.624286</td>\n",
       "      <td>-0.417745</td>\n",
       "    </tr>\n",
       "    <tr>\n",
       "      <th>36</th>\n",
       "      <td>85.896431</td>\n",
       "      <td>90.038518</td>\n",
       "      <td>-4.142088</td>\n",
       "    </tr>\n",
       "    <tr>\n",
       "      <th>37</th>\n",
       "      <td>89.443743</td>\n",
       "      <td>84.569055</td>\n",
       "      <td>4.874688</td>\n",
       "    </tr>\n",
       "    <tr>\n",
       "      <th>38</th>\n",
       "      <td>112.366717</td>\n",
       "      <td>108.723531</td>\n",
       "      <td>3.643186</td>\n",
       "    </tr>\n",
       "    <tr>\n",
       "      <th>39</th>\n",
       "      <td>105.062580</td>\n",
       "      <td>108.389709</td>\n",
       "      <td>-3.327129</td>\n",
       "    </tr>\n",
       "    <tr>\n",
       "      <th>40</th>\n",
       "      <td>164.947824</td>\n",
       "      <td>165.830718</td>\n",
       "      <td>-0.882894</td>\n",
       "    </tr>\n",
       "    <tr>\n",
       "      <th>41</th>\n",
       "      <td>142.783014</td>\n",
       "      <td>141.170328</td>\n",
       "      <td>1.612686</td>\n",
       "    </tr>\n",
       "    <tr>\n",
       "      <th>42</th>\n",
       "      <td>99.761328</td>\n",
       "      <td>102.838222</td>\n",
       "      <td>-3.076895</td>\n",
       "    </tr>\n",
       "    <tr>\n",
       "      <th>43</th>\n",
       "      <td>90.150045</td>\n",
       "      <td>89.717191</td>\n",
       "      <td>0.432854</td>\n",
       "    </tr>\n",
       "    <tr>\n",
       "      <th>44</th>\n",
       "      <td>58.789617</td>\n",
       "      <td>59.347025</td>\n",
       "      <td>-0.557408</td>\n",
       "    </tr>\n",
       "    <tr>\n",
       "      <th>45</th>\n",
       "      <td>76.034303</td>\n",
       "      <td>71.087647</td>\n",
       "      <td>4.946656</td>\n",
       "    </tr>\n",
       "    <tr>\n",
       "      <th>46</th>\n",
       "      <td>95.193494</td>\n",
       "      <td>97.736403</td>\n",
       "      <td>-2.542909</td>\n",
       "    </tr>\n",
       "    <tr>\n",
       "      <th>47</th>\n",
       "      <td>128.688352</td>\n",
       "      <td>126.284279</td>\n",
       "      <td>2.404074</td>\n",
       "    </tr>\n",
       "    <tr>\n",
       "      <th>48</th>\n",
       "      <td>112.876165</td>\n",
       "      <td>112.049427</td>\n",
       "      <td>0.826738</td>\n",
       "    </tr>\n",
       "    <tr>\n",
       "      <th>49</th>\n",
       "      <td>122.906866</td>\n",
       "      <td>122.188100</td>\n",
       "      <td>0.718766</td>\n",
       "    </tr>\n",
       "    <tr>\n",
       "      <th>50</th>\n",
       "      <td>144.604970</td>\n",
       "      <td>149.021832</td>\n",
       "      <td>-4.416862</td>\n",
       "    </tr>\n",
       "    <tr>\n",
       "      <th>51</th>\n",
       "      <td>135.113185</td>\n",
       "      <td>135.614344</td>\n",
       "      <td>-0.501159</td>\n",
       "    </tr>\n",
       "    <tr>\n",
       "      <th>52</th>\n",
       "      <td>82.348009</td>\n",
       "      <td>81.574096</td>\n",
       "      <td>0.773913</td>\n",
       "    </tr>\n",
       "    <tr>\n",
       "      <th>53</th>\n",
       "      <td>104.709068</td>\n",
       "      <td>103.440025</td>\n",
       "      <td>1.269043</td>\n",
       "    </tr>\n",
       "    <tr>\n",
       "      <th>54</th>\n",
       "      <td>27.228101</td>\n",
       "      <td>31.770475</td>\n",
       "      <td>-4.542374</td>\n",
       "    </tr>\n",
       "    <tr>\n",
       "      <th>55</th>\n",
       "      <td>70.447893</td>\n",
       "      <td>67.983837</td>\n",
       "      <td>2.464056</td>\n",
       "    </tr>\n",
       "    <tr>\n",
       "      <th>56</th>\n",
       "      <td>142.349641</td>\n",
       "      <td>145.020590</td>\n",
       "      <td>-2.670949</td>\n",
       "    </tr>\n",
       "    <tr>\n",
       "      <th>57</th>\n",
       "      <td>75.066449</td>\n",
       "      <td>77.603490</td>\n",
       "      <td>-2.537041</td>\n",
       "    </tr>\n",
       "    <tr>\n",
       "      <th>58</th>\n",
       "      <td>156.613256</td>\n",
       "      <td>152.662345</td>\n",
       "      <td>3.950911</td>\n",
       "    </tr>\n",
       "    <tr>\n",
       "      <th>59</th>\n",
       "      <td>79.249873</td>\n",
       "      <td>79.530153</td>\n",
       "      <td>-0.280280</td>\n",
       "    </tr>\n",
       "  </tbody>\n",
       "</table>\n",
       "</div>"
      ],
      "text/plain": [
       "     Predicted      Actual     Error\n",
       "0   105.022316  108.338851 -3.316535\n",
       "1   113.322353  109.180961  4.141392\n",
       "2    94.677121   88.920894  5.756227\n",
       "3   135.915013  138.859409 -2.944395\n",
       "4   127.865301  128.819939 -0.954638\n",
       "5    90.576056   94.095491 -3.519434\n",
       "6    43.666197   42.169785  1.496412\n",
       "7   110.156822  113.952958 -3.796136\n",
       "8   109.260432  100.994293  8.266138\n",
       "9    51.552848   53.593745 -2.040896\n",
       "10  109.564830  112.972196 -3.407366\n",
       "11  143.493184  145.612037 -2.118852\n",
       "12   74.845793   79.578543 -4.732750\n",
       "13   87.985858   81.066413  6.919445\n",
       "14   85.929553   88.258029 -2.328476\n",
       "15  102.481874   98.113589  4.368285\n",
       "16  151.249036  150.826170  0.422866\n",
       "17  154.222569  157.785103 -3.562535\n",
       "18   97.605659   97.585909  0.019750\n",
       "19   72.495499   78.223547 -5.728048\n",
       "20  165.776962  166.934329 -1.157368\n",
       "21  125.404666  119.817288  5.587377\n",
       "22   94.459303   86.727672  7.731631\n",
       "23  122.434212  119.184062  3.250149\n",
       "24  112.066757  108.887274  3.179483\n",
       "25  119.348251  125.458303 -6.110052\n",
       "26   59.776366   58.160940  1.615426\n",
       "27   96.222730   88.615019  7.607710\n",
       "28  104.066459  105.127941 -1.061482\n",
       "29   64.580373   58.618833  5.961539\n",
       "30   66.653492   70.239520 -3.586028\n",
       "31  111.685973  118.912039 -7.226067\n",
       "32  111.434889  110.180480  1.254409\n",
       "33   91.886333   98.537177 -6.650844\n",
       "34  101.885514  103.243690 -1.358176\n",
       "35   54.206541   54.624286 -0.417745\n",
       "36   85.896431   90.038518 -4.142088\n",
       "37   89.443743   84.569055  4.874688\n",
       "38  112.366717  108.723531  3.643186\n",
       "39  105.062580  108.389709 -3.327129\n",
       "40  164.947824  165.830718 -0.882894\n",
       "41  142.783014  141.170328  1.612686\n",
       "42   99.761328  102.838222 -3.076895\n",
       "43   90.150045   89.717191  0.432854\n",
       "44   58.789617   59.347025 -0.557408\n",
       "45   76.034303   71.087647  4.946656\n",
       "46   95.193494   97.736403 -2.542909\n",
       "47  128.688352  126.284279  2.404074\n",
       "48  112.876165  112.049427  0.826738\n",
       "49  122.906866  122.188100  0.718766\n",
       "50  144.604970  149.021832 -4.416862\n",
       "51  135.113185  135.614344 -0.501159\n",
       "52   82.348009   81.574096  0.773913\n",
       "53  104.709068  103.440025  1.269043\n",
       "54   27.228101   31.770475 -4.542374\n",
       "55   70.447893   67.983837  2.464056\n",
       "56  142.349641  145.020590 -2.670949\n",
       "57   75.066449   77.603490 -2.537041\n",
       "58  156.613256  152.662345  3.950911\n",
       "59   79.249873   79.530153 -0.280280"
      ]
     },
     "execution_count": 95,
     "metadata": {},
     "output_type": "execute_result"
    }
   ],
   "source": [
    "pd.DataFrame({\"Predicted\": predictions, \"Actual\": y, \"Error\": predictions - y})[[\"Predicted\", \"Actual\", \"Error\"]]"
   ]
  },
  {
   "cell_type": "code",
   "execution_count": 14,
   "metadata": {},
   "outputs": [],
   "source": [
    "x_min = X.min()\n",
    "x_max = X.max()"
   ]
  },
  {
   "cell_type": "code",
   "execution_count": 15,
   "metadata": {},
   "outputs": [],
   "source": [
    "y_min_actual = y.min()\n",
    "y_max_actual = y.max()"
   ]
  },
  {
   "cell_type": "code",
   "execution_count": 16,
   "metadata": {},
   "outputs": [
    {
     "name": "stdout",
     "output_type": "stream",
     "text": [
      "Actual Min Value: 31.77047528679899\n",
      "Calculated Min Value: 27.228101169784026\n",
      "Actual Max Value: 166.93432935071468\n",
      "Calculated Max Value: 165.7769617400213\n"
     ]
    }
   ],
   "source": [
    "y_min = 100.57095282715062 + 28.72821944 * x_min\n",
    "y_max = 100.57095282715062 + 28.72821944 * x_max\n",
    "print(f\"Actual Min Value: {y_min_actual}\")\n",
    "print(f\"Calculated Min Value: {y_min}\")\n",
    "print(f\"Actual Max Value: {y_max_actual}\")\n",
    "print(f\"Calculated Max Value: {y_max}\")"
   ]
  },
  {
   "cell_type": "code",
   "execution_count": 17,
   "metadata": {},
   "outputs": [
    {
     "name": "stdout",
     "output_type": "stream",
     "text": [
      "Actual Min Value: 31.77047528679899\n",
      "Predicted Min Value: [27.22810116]\n",
      "Actual Max Value: 166.93432935071468\n",
      "Predicted Max Value: [165.77696175]\n"
     ]
    }
   ],
   "source": [
    "y_min_predicted = model.predict(x_min)\n",
    "y_max_predicted = model.predict(x_max)\n",
    "print(f\"Actual Min Value: {y_min_actual}\")\n",
    "print(f\"Predicted Min Value: {y_min_predicted}\")\n",
    "print(f\"Actual Max Value: {y_max_actual}\")\n",
    "print(f\"Predicted Max Value: {y_max_predicted}\")"
   ]
  },
  {
   "cell_type": "code",
   "execution_count": 18,
   "metadata": {},
   "outputs": [
    {
     "data": {
      "text/plain": [
       "[<matplotlib.lines.Line2D at 0x21e64011128>]"
      ]
     },
     "execution_count": 18,
     "metadata": {},
     "output_type": "execute_result"
    },
    {
     "data": {
      "image/png": "[encoded data removed]",
      "text/plain": [
       "<Figure size 432x288 with 1 Axes>"
      ]
     },
     "metadata": {},
     "output_type": "display_data"
    }
   ],
   "source": [
    "plt.scatter(X, y, c='blue')\n",
    "plt.plot([x_min, x_max], [y_min, y_max], c='red')"
   ]
  },
  {
   "cell_type": "code",
   "execution_count": 19,
   "metadata": {},
   "outputs": [
    {
     "name": "stdout",
     "output_type": "stream",
     "text": [
      "Mean Squared Error (MSE): 14.73019610280048\n",
      "R-squared (R2 ): 0.9843590419849737\n"
     ]
    }
   ],
   "source": [
    "from sklearn.metrics import mean_squared_error, r2_score\n",
    "\n",
    "# Use our model to predict a value\n",
    "predicted = model.predict(X)\n",
    "\n",
    "# Score the prediction with mse and r2\n",
    "mse = mean_squared_error(y, predicted)\n",
    "r2 = r2_score(y, predicted)\n",
    "\n",
    "print(f\"Mean Squared Error (MSE): {mse}\")\n",
    "print(f\"R-squared (R2 ): {r2}\")"
   ]
  },
  {
   "cell_type": "code",
   "execution_count": 20,
   "metadata": {},
   "outputs": [
    {
     "data": {
      "text/plain": [
       "0.9843590419849737"
      ]
     },
     "execution_count": 20,
     "metadata": {},
     "output_type": "execute_result"
    }
   ],
   "source": [
    "model.score(X, y)"
   ]
  },
  {
   "cell_type": "code",
   "execution_count": 21,
   "metadata": {},
   "outputs": [],
   "source": [
    "from sklearn.model_selection import train_test_split\n",
    "\n",
    "X_train, X_test, y_train, y_test = train_test_split(X, y, random_state=42)"
   ]
  },
  {
   "cell_type": "code",
   "execution_count": 22,
   "metadata": {},
   "outputs": [
    {
     "data": {
      "text/plain": [
       "LinearRegression(copy_X=True, fit_intercept=True, n_jobs=1, normalize=False)"
      ]
     },
     "execution_count": 22,
     "metadata": {},
     "output_type": "execute_result"
    }
   ],
   "source": [
    "model.fit(X_train, y_train)"
   ]
  },
  {
   "cell_type": "code",
   "execution_count": 23,
   "metadata": {},
   "outputs": [
    {
     "data": {
      "text/plain": [
       "0.9687200489602834"
      ]
     },
     "execution_count": 23,
     "metadata": {},
     "output_type": "execute_result"
    }
   ],
   "source": [
    "model.score(X_test, y_test)"
   ]
  },
  {
   "cell_type": "code",
   "execution_count": null,
   "metadata": {},
   "outputs": [],
   "source": []
  }
 ],
 "metadata": {
  "kernelspec": {
   "display_name": "Python [default]",
   "language": "python",
   "name": "python3"
  },
  "language_info": {
   "codemirror_mode": {
    "name": "ipython",
    "version": 3
   },
   "file_extension": ".py",
   "mimetype": "text/x-python",
   "name": "python",
   "nbconvert_exporter": "python",
   "pygments_lexer": "ipython3",
   "version": "3.6.5"
  }
 },
 "nbformat": 4,
 "nbformat_minor": 2
}
